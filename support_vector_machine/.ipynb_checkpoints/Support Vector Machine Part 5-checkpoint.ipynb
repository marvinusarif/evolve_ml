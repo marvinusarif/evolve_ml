{
 "cells": [
  {
   "cell_type": "code",
   "execution_count": 38,
   "metadata": {},
   "outputs": [],
   "source": [
    "from sklearn.datasets import load_digits\n",
    "import matplotlib.pyplot as plt\n",
    "import numpy as np\n",
    "\n",
    "\n",
    "from sklearn.model_selection import train_test_split, GridSearchCV\n",
    "from sklearn.pipeline import Pipeline\n",
    "from sklearn.preprocessing import StandardScaler\n",
    "from sklearn.metrics import accuracy_score, f1_score\n",
    "\n",
    "from sklearn.svm import SVC\n",
    "from EML_plot import plot_svc"
   ]
  },
  {
   "cell_type": "code",
   "execution_count": 27,
   "metadata": {},
   "outputs": [],
   "source": [
    "X, y = load_digits(return_X_y=True)"
   ]
  },
  {
   "cell_type": "code",
   "execution_count": 28,
   "metadata": {},
   "outputs": [
    {
     "data": {
      "text/plain": [
       "((1797, 64), (1797,))"
      ]
     },
     "execution_count": 28,
     "metadata": {},
     "output_type": "execute_result"
    }
   ],
   "source": [
    "X.shape, y.shape"
   ]
  },
  {
   "cell_type": "code",
   "execution_count": 29,
   "metadata": {},
   "outputs": [
    {
     "name": "stdout",
     "output_type": "stream",
     "text": [
      "this will show number  8\n"
     ]
    },
    {
     "data": {
      "text/plain": [
       "array([[ 0.,  0.,  9., 14.,  8.,  1.,  0.,  0.],\n",
       "       [ 0.,  0., 12., 14., 14., 12.,  0.,  0.],\n",
       "       [ 0.,  0.,  9., 10.,  0., 15.,  4.,  0.],\n",
       "       [ 0.,  0.,  3., 16., 12., 14.,  2.,  0.],\n",
       "       [ 0.,  0.,  4., 16., 16.,  2.,  0.,  0.],\n",
       "       [ 0.,  3., 16.,  8., 10., 13.,  2.,  0.],\n",
       "       [ 0.,  1., 15.,  1.,  3., 16.,  8.,  0.],\n",
       "       [ 0.,  0., 11., 16., 15., 11.,  1.,  0.]])"
      ]
     },
     "execution_count": 29,
     "metadata": {},
     "output_type": "execute_result"
    }
   ],
   "source": [
    "i = np.random.randint(0,len(X))\n",
    "print(\"this will show number \", i)\n",
    "pixels = np.reshape(X[i,:],(8,8))\n",
    "pixels"
   ]
  },
  {
   "cell_type": "code",
   "execution_count": 30,
   "metadata": {},
   "outputs": [
    {
     "name": "stdout",
     "output_type": "stream",
     "text": [
      "Label 8\n"
     ]
    },
    {
     "data": {
      "image/png": "[encoded data removed]",
      "text/plain": [
       "<Figure size 432x288 with 1 Axes>"
      ]
     },
     "metadata": {},
     "output_type": "display_data"
    }
   ],
   "source": [
    "plt.imshow(pixels, cmap=\"gray\")\n",
    "print(\"Label\", y[i])"
   ]
  },
  {
   "cell_type": "code",
   "execution_count": 31,
   "metadata": {},
   "outputs": [
    {
     "data": {
      "text/plain": [
       "((1437, 64), (360, 64), (1437,), (360,))"
      ]
     },
     "execution_count": 31,
     "metadata": {},
     "output_type": "execute_result"
    }
   ],
   "source": [
    "X_train, X_test, y_train, y_test = train_test_split(X,y,test_size=0.2,random_state=42)\n",
    "X_train.shape, X_test.shape, y_train.shape, y_test.shape"
   ]
  },
  {
   "cell_type": "code",
   "execution_count": 32,
   "metadata": {},
   "outputs": [
    {
     "data": {
      "text/plain": [
       "{'svm__C': 1000.0, 'svm__gamma': 0.01}"
      ]
     },
     "execution_count": 32,
     "metadata": {},
     "output_type": "execute_result"
    }
   ],
   "source": [
    "pipeline = Pipeline([\n",
    "    (\"ss\", StandardScaler()),\n",
    "    (\"svm\", SVC(kernel=\"rbf\"))])\n",
    "\n",
    "params = {\n",
    "    \"svm__C\" : np.logspace(3,12,4),\n",
    "    \"svm__gamma\" : np.logspace(-3,3,7),\n",
    "}\n",
    "\n",
    "model = GridSearchCV(pipeline,param_grid=params,n_jobs=-1,cv=3)\n",
    "model.fit(X_train,y_train)\n",
    "model.best_params_"
   ]
  },
  {
   "cell_type": "code",
   "execution_count": 33,
   "metadata": {},
   "outputs": [
    {
     "data": {
      "text/plain": [
       "(1.0, 0.9805555555555555)"
      ]
     },
     "execution_count": 33,
     "metadata": {},
     "output_type": "execute_result"
    }
   ],
   "source": [
    "model.score(X_train, y_train), model.score(X_test, y_test)"
   ]
  },
  {
   "cell_type": "code",
   "execution_count": 34,
   "metadata": {},
   "outputs": [
    {
     "name": "stdout",
     "output_type": "stream",
     "text": [
      "1.0\n",
      "0.9805555555555555\n"
     ]
    }
   ],
   "source": [
    "print(accuracy_score(y_train,model.predict(X_train)))\n",
    "print(accuracy_score(y_test,model.predict(X_test)))"
   ]
  },
  {
   "cell_type": "code",
   "execution_count": 61,
   "metadata": {},
   "outputs": [
    {
     "name": "stdout",
     "output_type": "stream",
     "text": [
      "[ 0.  0.  3. 12. 12.  2.  0.  0.  0.  0. 11. 10.  7. 14.  2.  0.  0.  0.\n",
      " 11.  1.  0.  8.  4.  0.  0.  2. 14.  2.  0.  5.  7.  0.  0.  8.  9.  0.\n",
      "  0.  6.  8.  0.  0.  3. 13.  0.  0. 12.  7.  0.  0.  0. 15.  6. 11. 12.\n",
      "  0.  0.  0.  0.  4. 15. 11.  1.  0.  0.]\n",
      "64\n",
      "(64,)\n",
      "[[ 0.  0.  3. 12. 12.  2.  0.  0.  0.  0. 11. 10.  7. 14.  2.  0.  0.  0.\n",
      "  11.  1.  0.  8.  4.  0.  0.  2. 14.  2.  0.  5.  7.  0.  0.  8.  9.  0.\n",
      "   0.  6.  8.  0.  0.  3. 13.  0.  0. 12.  7.  0.  0.  0. 15.  6. 11. 12.\n",
      "   0.  0.  0.  0.  4. 15. 11.  1.  0.  0.]]\n",
      "(1, 64)\n",
      "The value should be 0\n",
      "and predicted as  [0]\n"
     ]
    },
    {
     "data": {
      "image/png": "[encoded data removed]",
      "text/plain": [
       "<Figure size 432x288 with 1 Axes>"
      ]
     },
     "metadata": {},
     "output_type": "display_data"
    }
   ],
   "source": [
    "i = np.random.randint(0, len(X_test))\n",
    "pixels = np.reshape(X_test[i,:], (8,8))\n",
    "plt.imshow(pixels, cmap=\"gray\")\n",
    "\n",
    "print(X_test[i, :])\n",
    "print(X_test.shape)\n",
    "\n",
    "#reshape X_test[i, :] so it can be predicted\n",
    "print(X_test[i, :].shape)\n",
    "predicted_pixels = np.reshape(X_test[i, :], (1,-1))\n",
    "print(predicted_pixels)\n",
    "print(predicted_pixels.shape)\n",
    "\n",
    "print(\"The value should be\", y_test[i])\n",
    "print(\"and predicted as \", model.predict(np.reshape(X_test[i, :], (1,-1))))"
   ]
  },
  {
   "cell_type": "code",
   "execution_count": 58,
   "metadata": {},
   "outputs": [
    {
     "data": {
      "text/plain": [
       "array([1.        , 1.        , 0.98507463, 0.97058824, 1.        ,\n",
       "       0.96774194, 0.98591549, 0.98507463, 0.96666667, 0.95      ])"
      ]
     },
     "execution_count": 58,
     "metadata": {},
     "output_type": "execute_result"
    }
   ],
   "source": [
    "f1_score(y_test, model.predict(X_test), average=None)"
   ]
  }
 ],
 "metadata": {
  "kernelspec": {
   "display_name": "Python 3",
   "language": "python",
   "name": "python3"
  },
  "language_info": {
   "codemirror_mode": {
    "name": "ipython",
    "version": 3
   },
   "file_extension": ".py",
   "mimetype": "text/x-python",
   "name": "python",
   "nbconvert_exporter": "python",
   "pygments_lexer": "ipython3",
   "version": "3.6.5"
  }
 },
 "nbformat": 4,
 "nbformat_minor": 2
}
