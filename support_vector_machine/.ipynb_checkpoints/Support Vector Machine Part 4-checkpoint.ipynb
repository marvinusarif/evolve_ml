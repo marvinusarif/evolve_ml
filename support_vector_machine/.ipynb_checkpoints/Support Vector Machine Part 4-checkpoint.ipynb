{
 "cells": [
  {
   "cell_type": "code",
   "execution_count": 8,
   "metadata": {},
   "outputs": [
    {
     "data": {
      "text/html": [
       "<div>\n",
       "<style scoped>\n",
       "    .dataframe tbody tr th:only-of-type {\n",
       "        vertical-align: middle;\n",
       "    }\n",
       "\n",
       "    .dataframe tbody tr th {\n",
       "        vertical-align: top;\n",
       "    }\n",
       "\n",
       "    .dataframe thead th {\n",
       "        text-align: right;\n",
       "    }\n",
       "</style>\n",
       "<table border=\"1\" class=\"dataframe\">\n",
       "  <thead>\n",
       "    <tr style=\"text-align: right;\">\n",
       "      <th></th>\n",
       "      <th>196</th>\n",
       "      <th>197</th>\n",
       "      <th>198</th>\n",
       "      <th>199</th>\n",
       "      <th>200</th>\n",
       "      <th>201</th>\n",
       "      <th>202</th>\n",
       "      <th>203</th>\n",
       "      <th>204</th>\n",
       "      <th>205</th>\n",
       "      <th>206</th>\n",
       "      <th>207</th>\n",
       "      <th>208</th>\n",
       "      <th>209</th>\n",
       "      <th>210</th>\n",
       "    </tr>\n",
       "  </thead>\n",
       "  <tbody>\n",
       "    <tr>\n",
       "      <th>x_1</th>\n",
       "      <td>-0.10830</td>\n",
       "      <td>-0.50461</td>\n",
       "      <td>-0.41705</td>\n",
       "      <td>-0.440090</td>\n",
       "      <td>-0.241940</td>\n",
       "      <td>-0.20968</td>\n",
       "      <td>-0.28376</td>\n",
       "      <td>-0.37500</td>\n",
       "      <td>-0.12408</td>\n",
       "      <td>-0.39574</td>\n",
       "      <td>-0.21532</td>\n",
       "      <td>0.17281</td>\n",
       "      <td>0.06682</td>\n",
       "      <td>0.29263</td>\n",
       "      <td>-0.061866</td>\n",
       "    </tr>\n",
       "    <tr>\n",
       "      <th>x_2</th>\n",
       "      <td>-0.30117</td>\n",
       "      <td>-0.12573</td>\n",
       "      <td>-0.16082</td>\n",
       "      <td>0.008772</td>\n",
       "      <td>0.061403</td>\n",
       "      <td>-0.58187</td>\n",
       "      <td>-0.38450</td>\n",
       "      <td>-0.43772</td>\n",
       "      <td>-0.12661</td>\n",
       "      <td>-0.35175</td>\n",
       "      <td>0.29503</td>\n",
       "      <td>-0.27193</td>\n",
       "      <td>-0.51754</td>\n",
       "      <td>-0.30117</td>\n",
       "      <td>-0.016082</td>\n",
       "    </tr>\n",
       "    <tr>\n",
       "      <th>Label</th>\n",
       "      <td>0.00000</td>\n",
       "      <td>1.00000</td>\n",
       "      <td>0.00000</td>\n",
       "      <td>1.000000</td>\n",
       "      <td>1.000000</td>\n",
       "      <td>0.00000</td>\n",
       "      <td>0.00000</td>\n",
       "      <td>1.00000</td>\n",
       "      <td>1.00000</td>\n",
       "      <td>1.00000</td>\n",
       "      <td>1.00000</td>\n",
       "      <td>0.00000</td>\n",
       "      <td>0.00000</td>\n",
       "      <td>0.00000</td>\n",
       "      <td>0.000000</td>\n",
       "    </tr>\n",
       "  </tbody>\n",
       "</table>\n",
       "</div>"
      ],
      "text/plain": [
       "           196      197      198       199       200      201      202  \\\n",
       "x_1   -0.10830 -0.50461 -0.41705 -0.440090 -0.241940 -0.20968 -0.28376   \n",
       "x_2   -0.30117 -0.12573 -0.16082  0.008772  0.061403 -0.58187 -0.38450   \n",
       "Label  0.00000  1.00000  0.00000  1.000000  1.000000  0.00000  0.00000   \n",
       "\n",
       "           203      204      205      206      207      208      209       210  \n",
       "x_1   -0.37500 -0.12408 -0.39574 -0.21532  0.17281  0.06682  0.29263 -0.061866  \n",
       "x_2   -0.43772 -0.12661 -0.35175  0.29503 -0.27193 -0.51754 -0.30117 -0.016082  \n",
       "Label  1.00000  1.00000  1.00000  1.00000  0.00000  0.00000  0.00000  0.000000  "
      ]
     },
     "execution_count": 8,
     "metadata": {},
     "output_type": "execute_result"
    }
   ],
   "source": [
    "from pandas import read_csv\n",
    "import matplotlib.pyplot as plt\n",
    "import numpy as np\n",
    "\n",
    "from sklearn.model_selection import train_test_split, GridSearchCV\n",
    "from sklearn.pipeline import Pipeline\n",
    "from sklearn.preprocessing import StandardScaler\n",
    "from sklearn.metrics import accuracy_score, f1_score\n",
    "\n",
    "from sklearn.svm import SVC\n",
    "from EML_plot import plot_svc, ilustrasi_RBF\n",
    "from ipywidgets import interact, fixed\n",
    "\n",
    "df = read_csv(\"./data4.csv\")\n",
    "df.tail(15).T"
   ]
  },
  {
   "cell_type": "code",
   "execution_count": 9,
   "metadata": {},
   "outputs": [],
   "source": [
    "X = df.drop(\"Label\",axis=1)\n",
    "y = df.Label"
   ]
  },
  {
   "cell_type": "code",
   "execution_count": 10,
   "metadata": {},
   "outputs": [
    {
     "data": {
      "text/plain": [
       "<matplotlib.collections.PathCollection at 0x120e6f0>"
      ]
     },
     "execution_count": 10,
     "metadata": {},
     "output_type": "execute_result"
    },
    {
     "data": {
      "image/png": "[encoded data removed]",
      "text/plain": [
       "<Figure size 288x288 with 1 Axes>"
      ]
     },
     "metadata": {},
     "output_type": "display_data"
    }
   ],
   "source": [
    "plt.figure(figsize=(4,4))\n",
    "plt.scatter(X.x_1, X.x_2, c=y, cmap=\"bwr\", s=5)"
   ]
  },
  {
   "cell_type": "code",
   "execution_count": 11,
   "metadata": {},
   "outputs": [
    {
     "data": {
      "text/plain": [
       "((168, 2), (43, 2), (168,), (43,))"
      ]
     },
     "execution_count": 11,
     "metadata": {},
     "output_type": "execute_result"
    }
   ],
   "source": [
    "X_train, X_test, y_train, y_test = train_test_split(X,y,test_size=0.2,random_state=42)\n",
    "X_train.shape, X_test.shape, y_train.shape, y_test.shape"
   ]
  },
  {
   "cell_type": "code",
   "execution_count": 12,
   "metadata": {},
   "outputs": [
    {
     "data": {
      "text/plain": [
       "{'svm__C': 1000000.0, 'svm__gamma': 0.001}"
      ]
     },
     "execution_count": 12,
     "metadata": {},
     "output_type": "execute_result"
    }
   ],
   "source": [
    "pipeline = Pipeline([\n",
    "    (\"ss\", StandardScaler()),\n",
    "    (\"svm\", SVC(kernel=\"rbf\"))])\n",
    "\n",
    "params = {\n",
    "    \"svm__C\" : np.logspace(3,12,4),\n",
    "    \"svm__gamma\" : np.logspace(-3,3,7),\n",
    "}\n",
    "\n",
    "model = GridSearchCV(pipeline,param_grid=params,n_jobs=-1,cv=3)\n",
    "model.fit(X_train,y_train)\n",
    "model.best_params_"
   ]
  },
  {
   "cell_type": "code",
   "execution_count": 13,
   "metadata": {},
   "outputs": [
    {
     "data": {
      "text/plain": [
       "(0.9226190476190477, 0.9767441860465116)"
      ]
     },
     "execution_count": 13,
     "metadata": {},
     "output_type": "execute_result"
    }
   ],
   "source": [
    "model.score(X_train, y_train), model.score(X_test, y_test)"
   ]
  },
  {
   "cell_type": "code",
   "execution_count": 14,
   "metadata": {},
   "outputs": [
    {
     "name": "stdout",
     "output_type": "stream",
     "text": [
      "0.9226190476190477\n",
      "0.9767441860465116\n"
     ]
    }
   ],
   "source": [
    "print(accuracy_score(y_train,model.predict(X_train)))\n",
    "print(accuracy_score(y_test,model.predict(X_test)))"
   ]
  },
  {
   "cell_type": "markdown",
   "metadata": {},
   "source": [
    "Plot Generated SVM Model in the real data"
   ]
  },
  {
   "cell_type": "code",
   "execution_count": 15,
   "metadata": {},
   "outputs": [
    {
     "data": {
      "image/png": "[encoded data removed]",
      "text/plain": [
       "<Figure size 432x432 with 1 Axes>"
      ]
     },
     "metadata": {},
     "output_type": "display_data"
    }
   ],
   "source": [
    "plot_svc(X, y, model, support=False)"
   ]
  },
  {
   "cell_type": "code",
   "execution_count": 16,
   "metadata": {},
   "outputs": [
    {
     "data": {
      "text/plain": [
       "array([0.92655367, 0.91823899])"
      ]
     },
     "execution_count": 16,
     "metadata": {},
     "output_type": "execute_result"
    }
   ],
   "source": [
    "f1_score(y_train, model.predict(X_train), average=None)"
   ]
  },
  {
   "cell_type": "code",
   "execution_count": 18,
   "metadata": {},
   "outputs": [
    {
     "data": {
      "text/plain": [
       "array([0.97142857, 0.98039216])"
      ]
     },
     "execution_count": 18,
     "metadata": {},
     "output_type": "execute_result"
    }
   ],
   "source": [
    "f1_score(y_test, model.predict(X_test), average=None)"
   ]
  },
  {
   "cell_type": "markdown",
   "metadata": {},
   "source": [
    "# How to Persist Model"
   ]
  },
  {
   "cell_type": "code",
   "execution_count": 21,
   "metadata": {},
   "outputs": [],
   "source": [
    "import pickle"
   ]
  },
  {
   "cell_type": "code",
   "execution_count": 23,
   "metadata": {},
   "outputs": [],
   "source": [
    "pickle.dump(model, open(\"our_model.pkl\", \"wb\"))"
   ]
  },
  {
   "cell_type": "code",
   "execution_count": 26,
   "metadata": {},
   "outputs": [],
   "source": [
    "save_all = {\n",
    "    \"model\" : model,\n",
    "    \"X_train\" : X_train,\n",
    "    \"X_test\" : X_test,\n",
    "    \"y_train\" : y_train,\n",
    "    \"y_test\" : y_test,\n",
    "}\n",
    "\n",
    "pickle.dump(save_all, open(\"our_model_save_all.pkl\", \"wb\"))"
   ]
  },
  {
   "cell_type": "markdown",
   "metadata": {},
   "source": [
    "# How To Load Model"
   ]
  },
  {
   "cell_type": "code",
   "execution_count": 27,
   "metadata": {},
   "outputs": [
    {
     "data": {
      "text/plain": [
       "GridSearchCV(cv=3, error_score='raise',\n",
       "       estimator=Pipeline(memory=None,\n",
       "     steps=[('ss', StandardScaler(copy=True, with_mean=True, with_std=True)), ('svm', SVC(C=1.0, cache_size=200, class_weight=None, coef0=0.0,\n",
       "  decision_function_shape='ovr', degree=3, gamma='auto', kernel='rbf',\n",
       "  max_iter=-1, probability=False, random_state=None, shrinking=True,\n",
       "  tol=0.001, verbose=False))]),\n",
       "       fit_params=None, iid=True, n_jobs=-1,\n",
       "       param_grid={'svm__C': array([1.e+03, 1.e+06, 1.e+09, 1.e+12]), 'svm__gamma': array([1.e-03, 1.e-02, 1.e-01, 1.e+00, 1.e+01, 1.e+02, 1.e+03])},\n",
       "       pre_dispatch='2*n_jobs', refit=True, return_train_score='warn',\n",
       "       scoring=None, verbose=0)"
      ]
     },
     "execution_count": 27,
     "metadata": {},
     "output_type": "execute_result"
    }
   ],
   "source": [
    "pickle.load(open(\"our_model.pkl\", \"rb\"))"
   ]
  },
  {
   "cell_type": "code",
   "execution_count": 30,
   "metadata": {},
   "outputs": [
    {
     "data": {
      "text/plain": [
       "{'model': GridSearchCV(cv=3, error_score='raise',\n",
       "        estimator=Pipeline(memory=None,\n",
       "      steps=[('ss', StandardScaler(copy=True, with_mean=True, with_std=True)), ('svm', SVC(C=1.0, cache_size=200, class_weight=None, coef0=0.0,\n",
       "   decision_function_shape='ovr', degree=3, gamma='auto', kernel='rbf',\n",
       "   max_iter=-1, probability=False, random_state=None, shrinking=True,\n",
       "   tol=0.001, verbose=False))]),\n",
       "        fit_params=None, iid=True, n_jobs=-1,\n",
       "        param_grid={'svm__C': array([1.e+03, 1.e+06, 1.e+09, 1.e+12]), 'svm__gamma': array([1.e-03, 1.e-02, 1.e-01, 1.e+00, 1.e+01, 1.e+02, 1.e+03])},\n",
       "        pre_dispatch='2*n_jobs', refit=True, return_train_score='warn',\n",
       "        scoring=None, verbose=0), 'X_train':           x_1       x_2\n",
       " 127  0.011521 -0.657900\n",
       " 108 -0.509220  0.078947\n",
       " 69  -0.347930 -0.312870\n",
       " 84  -0.274190  0.307020\n",
       " 97  -0.410250 -0.466370\n",
       " 101 -0.331450 -0.605560\n",
       " 38  -0.153110  0.552920\n",
       " 24  -0.316940 -0.228950\n",
       " 184 -0.168200  0.266080\n",
       " 118  0.131340 -0.359650\n",
       " 29  -0.158990 -0.043860\n",
       " 19  -0.080530  0.507890\n",
       " 185 -0.085253  0.137430\n",
       " 95   0.274190 -0.172520\n",
       " 67  -0.039170 -0.219300\n",
       " 66  -0.356340 -0.396780\n",
       " 5   -0.338710  0.043860\n",
       " 170  0.118550  0.319590\n",
       " 56   0.143430  0.168130\n",
       " 98  -0.177990  0.086257\n",
       " 158 -0.153110  0.184500\n",
       " 198 -0.417050 -0.160820\n",
       " 65  -0.112900  0.301170\n",
       " 122 -0.250580  0.229530\n",
       " 180 -0.412440  0.353800\n",
       " 31   0.260370 -0.207600\n",
       " 12  -0.005876  0.442400\n",
       " 35  -0.337670 -0.519590\n",
       " 28  -0.165550 -0.175730\n",
       " 42  -0.437210 -0.376320\n",
       " ..        ...       ...\n",
       " 48  -0.292050 -0.454090\n",
       " 88  -0.047350  0.507890\n",
       " 21  -0.218890 -0.423980\n",
       " 57   0.158990 -0.154970\n",
       " 160 -0.509220  0.219300\n",
       " 203 -0.375000 -0.437720\n",
       " 129  0.255760 -0.049708\n",
       " 37   0.223500 -0.049708\n",
       " 157 -0.321080 -0.433630\n",
       " 199 -0.440090  0.008772\n",
       " 1    0.062558  0.552920\n",
       " 52  -0.131340 -0.236840\n",
       " 149  0.029954 -0.342100\n",
       " 130 -0.025346 -0.383040\n",
       " 151 -0.140550 -0.049708\n",
       " 103 -0.480760 -0.503220\n",
       " 99   0.043779  0.020468\n",
       " 116 -0.016244 -0.167540\n",
       " 87  -0.316940 -0.183920\n",
       " 74  -0.227760 -0.314910\n",
       " 121 -0.218890  0.201750\n",
       " 210 -0.061866 -0.016082\n",
       " 20   0.166240 -0.024269\n",
       " 188 -0.186640 -0.038012\n",
       " 71   0.025230  0.520180\n",
       " 106 -0.186290 -0.478650\n",
       " 14   0.232720 -0.195910\n",
       " 92  -0.066820 -0.482460\n",
       " 179  0.071429 -0.646200\n",
       " 102 -0.132370 -0.507310\n",
       " \n",
       " [168 rows x 2 columns], 'X_test':           x_1       x_2\n",
       " 30   0.108180  0.299120\n",
       " 173 -0.297240  0.347950\n",
       " 140 -0.232720  0.441520\n",
       " 75   0.034562  0.067252\n",
       " 60  -0.414400 -0.069298\n",
       " 208  0.066820 -0.517540\n",
       " 45  -0.131340 -0.605260\n",
       " 183  0.025346 -0.511700\n",
       " 9   -0.384790 -0.090643\n",
       " 100 -0.324880  0.295320\n",
       " 137 -0.499420 -0.032456\n",
       " 204 -0.124080 -0.126610\n",
       " 156  0.019009  0.401460\n",
       " 82  -0.354260  0.364620\n",
       " 15  -0.003802  0.004386\n",
       " 200 -0.241940  0.061403\n",
       " 167 -0.149770  0.125730\n",
       " 18  -0.338710  0.418130\n",
       " 209  0.292630 -0.301170\n",
       " 86  -0.149770  0.073099\n",
       " 79  -0.200460 -0.230990\n",
       " 55   0.223500 -0.371340\n",
       " 148  0.041820  0.204970\n",
       " 206 -0.215320  0.295030\n",
       " 150 -0.086751  0.421930\n",
       " 143 -0.246540  0.055556\n",
       " 25  -0.385370 -0.515500\n",
       " 104  0.182030 -0.084795\n",
       " 16  -0.518430 -0.172520\n",
       " 177 -0.361750 -0.137430\n",
       " 135  0.135950 -0.511700\n",
       " 126 -0.130300  0.217250\n",
       " 109 -0.541480  0.014620\n",
       " 68  -0.435480  0.160820\n",
       " 73  -0.324880 -0.032164\n",
       " 147 -0.385370  0.033041\n",
       " 181 -0.168200  0.301170\n",
       " 96  -0.108300 -0.084795\n",
       " 189 -0.080645 -0.564330\n",
       " 93   0.126840  0.393270\n",
       " 115 -0.596770  0.114030\n",
       " 163 -0.177990 -0.298540\n",
       " 195  0.025346 -0.558480, 'y_train': 127    0\n",
       " 108    1\n",
       " 69     0\n",
       " 84     1\n",
       " 97     1\n",
       " 101    0\n",
       " 38     1\n",
       " 24     1\n",
       " 184    1\n",
       " 118    0\n",
       " 29     1\n",
       " 19     1\n",
       " 185    1\n",
       " 95     0\n",
       " 67     0\n",
       " 66     1\n",
       " 5      1\n",
       " 170    0\n",
       " 56     0\n",
       " 98     1\n",
       " 158    0\n",
       " 198    0\n",
       " 65     1\n",
       " 122    1\n",
       " 180    1\n",
       " 31     0\n",
       " 12     1\n",
       " 35     0\n",
       " 28     0\n",
       " 42     1\n",
       "       ..\n",
       " 48     0\n",
       " 88     1\n",
       " 21     0\n",
       " 57     0\n",
       " 160    1\n",
       " 203    1\n",
       " 129    0\n",
       " 37     0\n",
       " 157    1\n",
       " 199    1\n",
       " 1      1\n",
       " 52     1\n",
       " 149    0\n",
       " 130    0\n",
       " 151    1\n",
       " 103    1\n",
       " 99     0\n",
       " 116    0\n",
       " 87     1\n",
       " 74     0\n",
       " 121    1\n",
       " 210    0\n",
       " 20     0\n",
       " 188    1\n",
       " 71     1\n",
       " 106    0\n",
       " 14     0\n",
       " 92     0\n",
       " 179    0\n",
       " 102    0\n",
       " Name: Label, Length: 168, dtype: int64, 'y_test': 30     0\n",
       " 173    1\n",
       " 140    1\n",
       " 75     0\n",
       " 60     1\n",
       " 208    0\n",
       " 45     0\n",
       " 183    0\n",
       " 9      1\n",
       " 100    1\n",
       " 137    1\n",
       " 204    1\n",
       " 156    1\n",
       " 82     1\n",
       " 15     0\n",
       " 200    1\n",
       " 167    1\n",
       " 18     1\n",
       " 209    0\n",
       " 86     1\n",
       " 79     0\n",
       " 55     0\n",
       " 148    0\n",
       " 206    1\n",
       " 150    1\n",
       " 143    1\n",
       " 25     1\n",
       " 104    0\n",
       " 16     1\n",
       " 177    1\n",
       " 135    0\n",
       " 126    1\n",
       " 109    1\n",
       " 68     1\n",
       " 73     1\n",
       " 147    1\n",
       " 181    1\n",
       " 96     0\n",
       " 189    0\n",
       " 93     0\n",
       " 115    1\n",
       " 163    0\n",
       " 195    0\n",
       " Name: Label, dtype: int64}"
      ]
     },
     "execution_count": 30,
     "metadata": {},
     "output_type": "execute_result"
    }
   ],
   "source": [
    "load = pickle.load(open(\"our_model_save_all.pkl\", \"rb\"))\n",
    "#the model will be loaded into dictionary\n",
    "load"
   ]
  }
 ],
 "metadata": {
  "kernelspec": {
   "display_name": "Python 3",
   "language": "python",
   "name": "python3"
  },
  "language_info": {
   "codemirror_mode": {
    "name": "ipython",
    "version": 3
   },
   "file_extension": ".py",
   "mimetype": "text/x-python",
   "name": "python",
   "nbconvert_exporter": "python",
   "pygments_lexer": "ipython3",
   "version": "3.6.5"
  }
 },
 "nbformat": 4,
 "nbformat_minor": 2
}
