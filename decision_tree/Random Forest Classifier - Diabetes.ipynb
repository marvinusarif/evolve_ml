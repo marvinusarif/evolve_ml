{
 "cells": [
  {
   "cell_type": "code",
   "execution_count": 2,
   "metadata": {},
   "outputs": [
    {
     "data": {
      "text/html": [
       "<div>\n",
       "<style scoped>\n",
       "    .dataframe tbody tr th:only-of-type {\n",
       "        vertical-align: middle;\n",
       "    }\n",
       "\n",
       "    .dataframe tbody tr th {\n",
       "        vertical-align: top;\n",
       "    }\n",
       "\n",
       "    .dataframe thead th {\n",
       "        text-align: right;\n",
       "    }\n",
       "</style>\n",
       "<table border=\"1\" class=\"dataframe\">\n",
       "  <thead>\n",
       "    <tr style=\"text-align: right;\">\n",
       "      <th></th>\n",
       "      <th>pregnancies</th>\n",
       "      <th>glucose</th>\n",
       "      <th>diastolic</th>\n",
       "      <th>triceps</th>\n",
       "      <th>insulin</th>\n",
       "      <th>bmi</th>\n",
       "      <th>dpf</th>\n",
       "      <th>age</th>\n",
       "      <th>diabetes</th>\n",
       "    </tr>\n",
       "  </thead>\n",
       "  <tbody>\n",
       "    <tr>\n",
       "      <th>763</th>\n",
       "      <td>10</td>\n",
       "      <td>101</td>\n",
       "      <td>76</td>\n",
       "      <td>48</td>\n",
       "      <td>180</td>\n",
       "      <td>32.9</td>\n",
       "      <td>0.171</td>\n",
       "      <td>63</td>\n",
       "      <td>0</td>\n",
       "    </tr>\n",
       "    <tr>\n",
       "      <th>764</th>\n",
       "      <td>2</td>\n",
       "      <td>122</td>\n",
       "      <td>70</td>\n",
       "      <td>27</td>\n",
       "      <td>0</td>\n",
       "      <td>36.8</td>\n",
       "      <td>0.340</td>\n",
       "      <td>27</td>\n",
       "      <td>0</td>\n",
       "    </tr>\n",
       "    <tr>\n",
       "      <th>765</th>\n",
       "      <td>5</td>\n",
       "      <td>121</td>\n",
       "      <td>72</td>\n",
       "      <td>23</td>\n",
       "      <td>112</td>\n",
       "      <td>26.2</td>\n",
       "      <td>0.245</td>\n",
       "      <td>30</td>\n",
       "      <td>0</td>\n",
       "    </tr>\n",
       "    <tr>\n",
       "      <th>766</th>\n",
       "      <td>1</td>\n",
       "      <td>126</td>\n",
       "      <td>60</td>\n",
       "      <td>0</td>\n",
       "      <td>0</td>\n",
       "      <td>30.1</td>\n",
       "      <td>0.349</td>\n",
       "      <td>47</td>\n",
       "      <td>1</td>\n",
       "    </tr>\n",
       "    <tr>\n",
       "      <th>767</th>\n",
       "      <td>1</td>\n",
       "      <td>93</td>\n",
       "      <td>70</td>\n",
       "      <td>31</td>\n",
       "      <td>0</td>\n",
       "      <td>30.4</td>\n",
       "      <td>0.315</td>\n",
       "      <td>23</td>\n",
       "      <td>0</td>\n",
       "    </tr>\n",
       "  </tbody>\n",
       "</table>\n",
       "</div>"
      ],
      "text/plain": [
       "     pregnancies  glucose  diastolic  triceps  insulin   bmi    dpf  age  \\\n",
       "763           10      101         76       48      180  32.9  0.171   63   \n",
       "764            2      122         70       27        0  36.8  0.340   27   \n",
       "765            5      121         72       23      112  26.2  0.245   30   \n",
       "766            1      126         60        0        0  30.1  0.349   47   \n",
       "767            1       93         70       31        0  30.4  0.315   23   \n",
       "\n",
       "     diabetes  \n",
       "763         0  \n",
       "764         0  \n",
       "765         0  \n",
       "766         1  \n",
       "767         0  "
      ]
     },
     "execution_count": 2,
     "metadata": {},
     "output_type": "execute_result"
    }
   ],
   "source": [
    "from pandas import read_csv, get_dummies\n",
    "from sklearn.model_selection import train_test_split, GridSearchCV\n",
    "from sklearn.ensemble import RandomForestClassifier\n",
    "from sklearn.preprocessing import StandardScaler, PolynomialFeatures\n",
    "from sklearn.pipeline import Pipeline\n",
    "from sklearn.metrics import f1_score, classification_report, confusion_matrix\n",
    "\n",
    "df = read_csv(\"./data/diabetes.csv\")\n",
    "df.tail()"
   ]
  },
  {
   "cell_type": "code",
   "execution_count": 3,
   "metadata": {},
   "outputs": [],
   "source": [
    "X = df.drop(\"diabetes\", axis=1)\n",
    "y = df.diabetes"
   ]
  },
  {
   "cell_type": "code",
   "execution_count": 4,
   "metadata": {},
   "outputs": [
    {
     "data": {
      "text/html": [
       "<div>\n",
       "<style scoped>\n",
       "    .dataframe tbody tr th:only-of-type {\n",
       "        vertical-align: middle;\n",
       "    }\n",
       "\n",
       "    .dataframe tbody tr th {\n",
       "        vertical-align: top;\n",
       "    }\n",
       "\n",
       "    .dataframe thead th {\n",
       "        text-align: right;\n",
       "    }\n",
       "</style>\n",
       "<table border=\"1\" class=\"dataframe\">\n",
       "  <thead>\n",
       "    <tr style=\"text-align: right;\">\n",
       "      <th></th>\n",
       "      <th>pregnancies</th>\n",
       "      <th>glucose</th>\n",
       "      <th>diastolic</th>\n",
       "      <th>triceps</th>\n",
       "      <th>insulin</th>\n",
       "      <th>bmi</th>\n",
       "      <th>dpf</th>\n",
       "      <th>age</th>\n",
       "      <th>diabetes</th>\n",
       "    </tr>\n",
       "  </thead>\n",
       "  <tbody>\n",
       "    <tr>\n",
       "      <th>0</th>\n",
       "      <td>6</td>\n",
       "      <td>148</td>\n",
       "      <td>72</td>\n",
       "      <td>35</td>\n",
       "      <td>0</td>\n",
       "      <td>33.6</td>\n",
       "      <td>0.627</td>\n",
       "      <td>50</td>\n",
       "      <td>1</td>\n",
       "    </tr>\n",
       "    <tr>\n",
       "      <th>1</th>\n",
       "      <td>1</td>\n",
       "      <td>85</td>\n",
       "      <td>66</td>\n",
       "      <td>29</td>\n",
       "      <td>0</td>\n",
       "      <td>26.6</td>\n",
       "      <td>0.351</td>\n",
       "      <td>31</td>\n",
       "      <td>0</td>\n",
       "    </tr>\n",
       "    <tr>\n",
       "      <th>2</th>\n",
       "      <td>8</td>\n",
       "      <td>183</td>\n",
       "      <td>64</td>\n",
       "      <td>0</td>\n",
       "      <td>0</td>\n",
       "      <td>23.3</td>\n",
       "      <td>0.672</td>\n",
       "      <td>32</td>\n",
       "      <td>1</td>\n",
       "    </tr>\n",
       "    <tr>\n",
       "      <th>3</th>\n",
       "      <td>1</td>\n",
       "      <td>89</td>\n",
       "      <td>66</td>\n",
       "      <td>23</td>\n",
       "      <td>94</td>\n",
       "      <td>28.1</td>\n",
       "      <td>0.167</td>\n",
       "      <td>21</td>\n",
       "      <td>0</td>\n",
       "    </tr>\n",
       "    <tr>\n",
       "      <th>4</th>\n",
       "      <td>0</td>\n",
       "      <td>137</td>\n",
       "      <td>40</td>\n",
       "      <td>35</td>\n",
       "      <td>168</td>\n",
       "      <td>43.1</td>\n",
       "      <td>2.288</td>\n",
       "      <td>33</td>\n",
       "      <td>1</td>\n",
       "    </tr>\n",
       "  </tbody>\n",
       "</table>\n",
       "</div>"
      ],
      "text/plain": [
       "   pregnancies  glucose  diastolic  triceps  insulin   bmi    dpf  age  \\\n",
       "0            6      148         72       35        0  33.6  0.627   50   \n",
       "1            1       85         66       29        0  26.6  0.351   31   \n",
       "2            8      183         64        0        0  23.3  0.672   32   \n",
       "3            1       89         66       23       94  28.1  0.167   21   \n",
       "4            0      137         40       35      168  43.1  2.288   33   \n",
       "\n",
       "   diabetes  \n",
       "0         1  \n",
       "1         0  \n",
       "2         1  \n",
       "3         0  \n",
       "4         1  "
      ]
     },
     "execution_count": 4,
     "metadata": {},
     "output_type": "execute_result"
    }
   ],
   "source": [
    "df.head()\n",
    "#drop all the NA cols\n",
    "#df.dropna()\n",
    "#if you want to change NA values with median/ mode/ mean we can use imputer method available in SciKit Learn"
   ]
  },
  {
   "cell_type": "code",
   "execution_count": 5,
   "metadata": {},
   "outputs": [
    {
     "data": {
      "text/plain": [
       "((614, 8), (614,), (154, 8), (154,))"
      ]
     },
     "execution_count": 5,
     "metadata": {},
     "output_type": "execute_result"
    }
   ],
   "source": [
    "X_train, X_test, y_train, y_test = train_test_split(X, y, test_size=0.2, random_state=42)\n",
    "\n",
    "X_train.shape, y_train.shape, X_test.shape, y_test.shape"
   ]
  },
  {
   "cell_type": "code",
   "execution_count": 6,
   "metadata": {},
   "outputs": [
    {
     "name": "stdout",
     "output_type": "stream",
     "text": [
      "Fitting 3 folds for each of 72 candidates, totalling 216 fits\n"
     ]
    },
    {
     "name": "stderr",
     "output_type": "stream",
     "text": [
      "[Parallel(n_jobs=-1)]: Done  34 tasks      | elapsed:    6.3s\n",
      "[Parallel(n_jobs=-1)]: Done 201 out of 216 | elapsed:    7.8s remaining:    0.5s\n",
      "[Parallel(n_jobs=-1)]: Done 216 out of 216 | elapsed:    8.0s finished\n"
     ]
    },
    {
     "data": {
      "text/plain": [
       "{'RF__class_weight': 'balanced',\n",
       " 'RF__max_features': 0.5,\n",
       " 'RF__min_samples_leaf': 3,\n",
       " 'RF__n_estimators': 20,\n",
       " 'poly__degree': 1,\n",
       " 'poly__interaction_only': False}"
      ]
     },
     "execution_count": 6,
     "metadata": {},
     "output_type": "execute_result"
    }
   ],
   "source": [
    "pipeline = Pipeline([\n",
    "    (\"poly\", PolynomialFeatures()),\n",
    "    (\"Scaler\", StandardScaler()),\n",
    "    (\"RF\", RandomForestClassifier())\n",
    "])\n",
    "#class weight based on the proportions of number of samples\n",
    "params = {\n",
    "    \"poly__degree\" : [1,2],\n",
    "    \"poly__interaction_only\" : [True, False],\n",
    "    \"RF__n_estimators\" : [5, 10, 20],\n",
    "    \"RF__max_features\" : [0.5, None, \"sqrt\"],\n",
    "    \"RF__min_samples_leaf\" : [1, 3],\n",
    "    \"RF__class_weight\" : [\"balanced\"]\n",
    "}\n",
    "\n",
    "#scoring f1 weighted is for multiclass\n",
    "\n",
    "#n_jobs = -1 use all processors, 2 = use 2 processors\n",
    "RF = GridSearchCV(pipeline,param_grid=params,cv=3, scoring=\"f1_weighted\", verbose=1, n_jobs=-1)\n",
    "RF.fit(X_train,y_train)\n",
    "\n",
    "RF.best_params_"
   ]
  },
  {
   "cell_type": "code",
   "execution_count": 7,
   "metadata": {},
   "outputs": [
    {
     "name": "stderr",
     "output_type": "stream",
     "text": [
      "D:\\anaconda36\\envs\\tensorflow-gpu\\lib\\site-packages\\sklearn\\model_selection\\_search.py:762: DeprecationWarning: The grid_scores_ attribute was deprecated in version 0.18 in favor of the more elaborate cv_results_ attribute. The grid_scores_ attribute will not be available from 0.20\n",
      "  DeprecationWarning)\n"
     ]
    },
    {
     "data": {
      "text/plain": [
       "[mean: 0.72188, std: 0.00997, params: {'RF__n_estimators': 5, 'RF__class_weight': 'balanced', 'poly__degree': 1, 'RF__min_samples_leaf': 1, 'RF__max_features': 0.5, 'poly__interaction_only': True},\n",
       " mean: 0.75256, std: 0.02507, params: {'RF__n_estimators': 5, 'RF__class_weight': 'balanced', 'poly__degree': 1, 'RF__min_samples_leaf': 1, 'RF__max_features': 0.5, 'poly__interaction_only': False},\n",
       " mean: 0.72804, std: 0.02073, params: {'RF__n_estimators': 5, 'RF__class_weight': 'balanced', 'poly__degree': 2, 'RF__min_samples_leaf': 1, 'RF__max_features': 0.5, 'poly__interaction_only': True},\n",
       " mean: 0.73037, std: 0.01174, params: {'RF__n_estimators': 5, 'RF__class_weight': 'balanced', 'poly__degree': 2, 'RF__min_samples_leaf': 1, 'RF__max_features': 0.5, 'poly__interaction_only': False},\n",
       " mean: 0.73758, std: 0.01830, params: {'RF__n_estimators': 10, 'RF__class_weight': 'balanced', 'poly__degree': 1, 'RF__min_samples_leaf': 1, 'RF__max_features': 0.5, 'poly__interaction_only': True},\n",
       " mean: 0.73955, std: 0.01489, params: {'RF__n_estimators': 10, 'RF__class_weight': 'balanced', 'poly__degree': 1, 'RF__min_samples_leaf': 1, 'RF__max_features': 0.5, 'poly__interaction_only': False},\n",
       " mean: 0.72054, std: 0.00461, params: {'RF__n_estimators': 10, 'RF__class_weight': 'balanced', 'poly__degree': 2, 'RF__min_samples_leaf': 1, 'RF__max_features': 0.5, 'poly__interaction_only': True},\n",
       " mean: 0.72417, std: 0.01971, params: {'RF__n_estimators': 10, 'RF__class_weight': 'balanced', 'poly__degree': 2, 'RF__min_samples_leaf': 1, 'RF__max_features': 0.5, 'poly__interaction_only': False},\n",
       " mean: 0.75219, std: 0.02222, params: {'RF__n_estimators': 20, 'RF__class_weight': 'balanced', 'poly__degree': 1, 'RF__min_samples_leaf': 1, 'RF__max_features': 0.5, 'poly__interaction_only': True},\n",
       " mean: 0.75220, std: 0.00832, params: {'RF__n_estimators': 20, 'RF__class_weight': 'balanced', 'poly__degree': 1, 'RF__min_samples_leaf': 1, 'RF__max_features': 0.5, 'poly__interaction_only': False},\n",
       " mean: 0.73302, std: 0.01362, params: {'RF__n_estimators': 20, 'RF__class_weight': 'balanced', 'poly__degree': 2, 'RF__min_samples_leaf': 1, 'RF__max_features': 0.5, 'poly__interaction_only': True},\n",
       " mean: 0.74416, std: 0.02935, params: {'RF__n_estimators': 20, 'RF__class_weight': 'balanced', 'poly__degree': 2, 'RF__min_samples_leaf': 1, 'RF__max_features': 0.5, 'poly__interaction_only': False},\n",
       " mean: 0.75181, std: 0.03347, params: {'RF__n_estimators': 5, 'RF__class_weight': 'balanced', 'poly__degree': 1, 'RF__min_samples_leaf': 3, 'RF__max_features': 0.5, 'poly__interaction_only': True},\n",
       " mean: 0.71750, std: 0.03013, params: {'RF__n_estimators': 5, 'RF__class_weight': 'balanced', 'poly__degree': 1, 'RF__min_samples_leaf': 3, 'RF__max_features': 0.5, 'poly__interaction_only': False},\n",
       " mean: 0.73610, std: 0.01443, params: {'RF__n_estimators': 5, 'RF__class_weight': 'balanced', 'poly__degree': 2, 'RF__min_samples_leaf': 3, 'RF__max_features': 0.5, 'poly__interaction_only': True},\n",
       " mean: 0.74557, std: 0.02776, params: {'RF__n_estimators': 5, 'RF__class_weight': 'balanced', 'poly__degree': 2, 'RF__min_samples_leaf': 3, 'RF__max_features': 0.5, 'poly__interaction_only': False},\n",
       " mean: 0.73679, std: 0.00854, params: {'RF__n_estimators': 10, 'RF__class_weight': 'balanced', 'poly__degree': 1, 'RF__min_samples_leaf': 3, 'RF__max_features': 0.5, 'poly__interaction_only': True},\n",
       " mean: 0.75917, std: 0.02378, params: {'RF__n_estimators': 10, 'RF__class_weight': 'balanced', 'poly__degree': 1, 'RF__min_samples_leaf': 3, 'RF__max_features': 0.5, 'poly__interaction_only': False},\n",
       " mean: 0.75704, std: 0.00927, params: {'RF__n_estimators': 10, 'RF__class_weight': 'balanced', 'poly__degree': 2, 'RF__min_samples_leaf': 3, 'RF__max_features': 0.5, 'poly__interaction_only': True},\n",
       " mean: 0.77348, std: 0.01720, params: {'RF__n_estimators': 10, 'RF__class_weight': 'balanced', 'poly__degree': 2, 'RF__min_samples_leaf': 3, 'RF__max_features': 0.5, 'poly__interaction_only': False},\n",
       " mean: 0.76376, std: 0.01622, params: {'RF__n_estimators': 20, 'RF__class_weight': 'balanced', 'poly__degree': 1, 'RF__min_samples_leaf': 3, 'RF__max_features': 0.5, 'poly__interaction_only': True},\n",
       " mean: 0.77522, std: 0.02702, params: {'RF__n_estimators': 20, 'RF__class_weight': 'balanced', 'poly__degree': 1, 'RF__min_samples_leaf': 3, 'RF__max_features': 0.5, 'poly__interaction_only': False},\n",
       " mean: 0.75121, std: 0.03109, params: {'RF__n_estimators': 20, 'RF__class_weight': 'balanced', 'poly__degree': 2, 'RF__min_samples_leaf': 3, 'RF__max_features': 0.5, 'poly__interaction_only': True},\n",
       " mean: 0.72936, std: 0.03071, params: {'RF__n_estimators': 20, 'RF__class_weight': 'balanced', 'poly__degree': 2, 'RF__min_samples_leaf': 3, 'RF__max_features': 0.5, 'poly__interaction_only': False},\n",
       " mean: 0.72784, std: 0.03004, params: {'RF__n_estimators': 5, 'RF__class_weight': 'balanced', 'poly__degree': 1, 'RF__min_samples_leaf': 1, 'RF__max_features': None, 'poly__interaction_only': True},\n",
       " mean: 0.74704, std: 0.00762, params: {'RF__n_estimators': 5, 'RF__class_weight': 'balanced', 'poly__degree': 1, 'RF__min_samples_leaf': 1, 'RF__max_features': None, 'poly__interaction_only': False},\n",
       " mean: 0.73787, std: 0.04881, params: {'RF__n_estimators': 5, 'RF__class_weight': 'balanced', 'poly__degree': 2, 'RF__min_samples_leaf': 1, 'RF__max_features': None, 'poly__interaction_only': True},\n",
       " mean: 0.73184, std: 0.01403, params: {'RF__n_estimators': 5, 'RF__class_weight': 'balanced', 'poly__degree': 2, 'RF__min_samples_leaf': 1, 'RF__max_features': None, 'poly__interaction_only': False},\n",
       " mean: 0.73833, std: 0.01351, params: {'RF__n_estimators': 10, 'RF__class_weight': 'balanced', 'poly__degree': 1, 'RF__min_samples_leaf': 1, 'RF__max_features': None, 'poly__interaction_only': True},\n",
       " mean: 0.72894, std: 0.00942, params: {'RF__n_estimators': 10, 'RF__class_weight': 'balanced', 'poly__degree': 1, 'RF__min_samples_leaf': 1, 'RF__max_features': None, 'poly__interaction_only': False},\n",
       " mean: 0.74169, std: 0.00733, params: {'RF__n_estimators': 10, 'RF__class_weight': 'balanced', 'poly__degree': 2, 'RF__min_samples_leaf': 1, 'RF__max_features': None, 'poly__interaction_only': True},\n",
       " mean: 0.73455, std: 0.01861, params: {'RF__n_estimators': 10, 'RF__class_weight': 'balanced', 'poly__degree': 2, 'RF__min_samples_leaf': 1, 'RF__max_features': None, 'poly__interaction_only': False},\n",
       " mean: 0.75276, std: 0.00172, params: {'RF__n_estimators': 20, 'RF__class_weight': 'balanced', 'poly__degree': 1, 'RF__min_samples_leaf': 1, 'RF__max_features': None, 'poly__interaction_only': True},\n",
       " mean: 0.76044, std: 0.01523, params: {'RF__n_estimators': 20, 'RF__class_weight': 'balanced', 'poly__degree': 1, 'RF__min_samples_leaf': 1, 'RF__max_features': None, 'poly__interaction_only': False},\n",
       " mean: 0.75424, std: 0.02606, params: {'RF__n_estimators': 20, 'RF__class_weight': 'balanced', 'poly__degree': 2, 'RF__min_samples_leaf': 1, 'RF__max_features': None, 'poly__interaction_only': True},\n",
       " mean: 0.74471, std: 0.02594, params: {'RF__n_estimators': 20, 'RF__class_weight': 'balanced', 'poly__degree': 2, 'RF__min_samples_leaf': 1, 'RF__max_features': None, 'poly__interaction_only': False},\n",
       " mean: 0.74094, std: 0.00945, params: {'RF__n_estimators': 5, 'RF__class_weight': 'balanced', 'poly__degree': 1, 'RF__min_samples_leaf': 3, 'RF__max_features': None, 'poly__interaction_only': True},\n",
       " mean: 0.74146, std: 0.01774, params: {'RF__n_estimators': 5, 'RF__class_weight': 'balanced', 'poly__degree': 1, 'RF__min_samples_leaf': 3, 'RF__max_features': None, 'poly__interaction_only': False},\n",
       " mean: 0.75183, std: 0.01371, params: {'RF__n_estimators': 5, 'RF__class_weight': 'balanced', 'poly__degree': 2, 'RF__min_samples_leaf': 3, 'RF__max_features': None, 'poly__interaction_only': True},\n",
       " mean: 0.72192, std: 0.01982, params: {'RF__n_estimators': 5, 'RF__class_weight': 'balanced', 'poly__degree': 2, 'RF__min_samples_leaf': 3, 'RF__max_features': None, 'poly__interaction_only': False},\n",
       " mean: 0.77342, std: 0.01183, params: {'RF__n_estimators': 10, 'RF__class_weight': 'balanced', 'poly__degree': 1, 'RF__min_samples_leaf': 3, 'RF__max_features': None, 'poly__interaction_only': True},\n",
       " mean: 0.76868, std: 0.01776, params: {'RF__n_estimators': 10, 'RF__class_weight': 'balanced', 'poly__degree': 1, 'RF__min_samples_leaf': 3, 'RF__max_features': None, 'poly__interaction_only': False},\n",
       " mean: 0.76360, std: 0.04103, params: {'RF__n_estimators': 10, 'RF__class_weight': 'balanced', 'poly__degree': 2, 'RF__min_samples_leaf': 3, 'RF__max_features': None, 'poly__interaction_only': True},\n",
       " mean: 0.76254, std: 0.02624, params: {'RF__n_estimators': 10, 'RF__class_weight': 'balanced', 'poly__degree': 2, 'RF__min_samples_leaf': 3, 'RF__max_features': None, 'poly__interaction_only': False},\n",
       " mean: 0.76233, std: 0.02215, params: {'RF__n_estimators': 20, 'RF__class_weight': 'balanced', 'poly__degree': 1, 'RF__min_samples_leaf': 3, 'RF__max_features': None, 'poly__interaction_only': True},\n",
       " mean: 0.75353, std: 0.02843, params: {'RF__n_estimators': 20, 'RF__class_weight': 'balanced', 'poly__degree': 1, 'RF__min_samples_leaf': 3, 'RF__max_features': None, 'poly__interaction_only': False},\n",
       " mean: 0.75363, std: 0.02620, params: {'RF__n_estimators': 20, 'RF__class_weight': 'balanced', 'poly__degree': 2, 'RF__min_samples_leaf': 3, 'RF__max_features': None, 'poly__interaction_only': True},\n",
       " mean: 0.74214, std: 0.01015, params: {'RF__n_estimators': 20, 'RF__class_weight': 'balanced', 'poly__degree': 2, 'RF__min_samples_leaf': 3, 'RF__max_features': None, 'poly__interaction_only': False},\n",
       " mean: 0.73190, std: 0.00438, params: {'RF__n_estimators': 5, 'RF__class_weight': 'balanced', 'poly__degree': 1, 'RF__min_samples_leaf': 1, 'RF__max_features': 'sqrt', 'poly__interaction_only': True},\n",
       " mean: 0.72307, std: 0.02542, params: {'RF__n_estimators': 5, 'RF__class_weight': 'balanced', 'poly__degree': 1, 'RF__min_samples_leaf': 1, 'RF__max_features': 'sqrt', 'poly__interaction_only': False},\n",
       " mean: 0.72214, std: 0.01721, params: {'RF__n_estimators': 5, 'RF__class_weight': 'balanced', 'poly__degree': 2, 'RF__min_samples_leaf': 1, 'RF__max_features': 'sqrt', 'poly__interaction_only': True},\n",
       " mean: 0.73639, std: 0.01968, params: {'RF__n_estimators': 5, 'RF__class_weight': 'balanced', 'poly__degree': 2, 'RF__min_samples_leaf': 1, 'RF__max_features': 'sqrt', 'poly__interaction_only': False},\n",
       " mean: 0.76011, std: 0.00292, params: {'RF__n_estimators': 10, 'RF__class_weight': 'balanced', 'poly__degree': 1, 'RF__min_samples_leaf': 1, 'RF__max_features': 'sqrt', 'poly__interaction_only': True},\n",
       " mean: 0.74954, std: 0.00598, params: {'RF__n_estimators': 10, 'RF__class_weight': 'balanced', 'poly__degree': 1, 'RF__min_samples_leaf': 1, 'RF__max_features': 'sqrt', 'poly__interaction_only': False},\n",
       " mean: 0.74305, std: 0.01210, params: {'RF__n_estimators': 10, 'RF__class_weight': 'balanced', 'poly__degree': 2, 'RF__min_samples_leaf': 1, 'RF__max_features': 'sqrt', 'poly__interaction_only': True},\n",
       " mean: 0.73012, std: 0.00821, params: {'RF__n_estimators': 10, 'RF__class_weight': 'balanced', 'poly__degree': 2, 'RF__min_samples_leaf': 1, 'RF__max_features': 'sqrt', 'poly__interaction_only': False},\n",
       " mean: 0.75420, std: 0.01602, params: {'RF__n_estimators': 20, 'RF__class_weight': 'balanced', 'poly__degree': 1, 'RF__min_samples_leaf': 1, 'RF__max_features': 'sqrt', 'poly__interaction_only': True},\n",
       " mean: 0.75245, std: 0.00067, params: {'RF__n_estimators': 20, 'RF__class_weight': 'balanced', 'poly__degree': 1, 'RF__min_samples_leaf': 1, 'RF__max_features': 'sqrt', 'poly__interaction_only': False},\n",
       " mean: 0.72015, std: 0.02840, params: {'RF__n_estimators': 20, 'RF__class_weight': 'balanced', 'poly__degree': 2, 'RF__min_samples_leaf': 1, 'RF__max_features': 'sqrt', 'poly__interaction_only': True},\n",
       " mean: 0.73645, std: 0.01270, params: {'RF__n_estimators': 20, 'RF__class_weight': 'balanced', 'poly__degree': 2, 'RF__min_samples_leaf': 1, 'RF__max_features': 'sqrt', 'poly__interaction_only': False},\n",
       " mean: 0.74067, std: 0.01478, params: {'RF__n_estimators': 5, 'RF__class_weight': 'balanced', 'poly__degree': 1, 'RF__min_samples_leaf': 3, 'RF__max_features': 'sqrt', 'poly__interaction_only': True},\n",
       " mean: 0.74551, std: 0.02638, params: {'RF__n_estimators': 5, 'RF__class_weight': 'balanced', 'poly__degree': 1, 'RF__min_samples_leaf': 3, 'RF__max_features': 'sqrt', 'poly__interaction_only': False},\n",
       " mean: 0.73868, std: 0.02085, params: {'RF__n_estimators': 5, 'RF__class_weight': 'balanced', 'poly__degree': 2, 'RF__min_samples_leaf': 3, 'RF__max_features': 'sqrt', 'poly__interaction_only': True},\n",
       " mean: 0.75585, std: 0.02217, params: {'RF__n_estimators': 5, 'RF__class_weight': 'balanced', 'poly__degree': 2, 'RF__min_samples_leaf': 3, 'RF__max_features': 'sqrt', 'poly__interaction_only': False},\n",
       " mean: 0.76748, std: 0.01590, params: {'RF__n_estimators': 10, 'RF__class_weight': 'balanced', 'poly__degree': 1, 'RF__min_samples_leaf': 3, 'RF__max_features': 'sqrt', 'poly__interaction_only': True},\n",
       " mean: 0.74523, std: 0.02655, params: {'RF__n_estimators': 10, 'RF__class_weight': 'balanced', 'poly__degree': 1, 'RF__min_samples_leaf': 3, 'RF__max_features': 'sqrt', 'poly__interaction_only': False},\n",
       " mean: 0.75208, std: 0.00936, params: {'RF__n_estimators': 10, 'RF__class_weight': 'balanced', 'poly__degree': 2, 'RF__min_samples_leaf': 3, 'RF__max_features': 'sqrt', 'poly__interaction_only': True},\n",
       " mean: 0.72812, std: 0.00647, params: {'RF__n_estimators': 10, 'RF__class_weight': 'balanced', 'poly__degree': 2, 'RF__min_samples_leaf': 3, 'RF__max_features': 'sqrt', 'poly__interaction_only': False},\n",
       " mean: 0.75947, std: 0.01925, params: {'RF__n_estimators': 20, 'RF__class_weight': 'balanced', 'poly__degree': 1, 'RF__min_samples_leaf': 3, 'RF__max_features': 'sqrt', 'poly__interaction_only': True},\n",
       " mean: 0.76818, std: 0.02621, params: {'RF__n_estimators': 20, 'RF__class_weight': 'balanced', 'poly__degree': 1, 'RF__min_samples_leaf': 3, 'RF__max_features': 'sqrt', 'poly__interaction_only': False},\n",
       " mean: 0.76042, std: 0.02239, params: {'RF__n_estimators': 20, 'RF__class_weight': 'balanced', 'poly__degree': 2, 'RF__min_samples_leaf': 3, 'RF__max_features': 'sqrt', 'poly__interaction_only': True},\n",
       " mean: 0.76262, std: 0.02530, params: {'RF__n_estimators': 20, 'RF__class_weight': 'balanced', 'poly__degree': 2, 'RF__min_samples_leaf': 3, 'RF__max_features': 'sqrt', 'poly__interaction_only': False}]"
      ]
     },
     "execution_count": 7,
     "metadata": {},
     "output_type": "execute_result"
    }
   ],
   "source": [
    "RF.grid_scores_"
   ]
  },
  {
   "cell_type": "code",
   "execution_count": 8,
   "metadata": {},
   "outputs": [
    {
     "data": {
      "text/plain": [
       "(0.9413680781758957, 0.7686268472906403)"
      ]
     },
     "execution_count": 8,
     "metadata": {},
     "output_type": "execute_result"
    }
   ],
   "source": [
    "RF.score(X_train, y_train), RF.score(X_test, y_test)"
   ]
  },
  {
   "cell_type": "code",
   "execution_count": 9,
   "metadata": {},
   "outputs": [
    {
     "data": {
      "text/plain": [
       "'             precision    recall  f1-score   support\\n\\n          0       0.96      0.96      0.96       401\\n          1       0.92      0.92      0.92       213\\n\\navg / total       0.94      0.94      0.94       614\\n'"
      ]
     },
     "execution_count": 9,
     "metadata": {},
     "output_type": "execute_result"
    }
   ],
   "source": [
    "classification_report_train = classification_report(y_train, RF.predict(X_train))\n",
    "classification_report_train"
   ]
  },
  {
   "cell_type": "code",
   "execution_count": 10,
   "metadata": {},
   "outputs": [
    {
     "data": {
      "text/plain": [
       "'             precision    recall  f1-score   support\\n\\n          0       0.84      0.79      0.81        99\\n          1       0.66      0.73      0.69        55\\n\\navg / total       0.77      0.77      0.77       154\\n'"
      ]
     },
     "execution_count": 10,
     "metadata": {},
     "output_type": "execute_result"
    }
   ],
   "source": [
    "classification_report_test = classification_report(y_test, RF.predict(X_test))\n",
    "classification_report_test"
   ]
  },
  {
   "cell_type": "code",
   "execution_count": 11,
   "metadata": {},
   "outputs": [
    {
     "data": {
      "text/plain": [
       "array([0.95511222, 0.91549296])"
      ]
     },
     "execution_count": 11,
     "metadata": {},
     "output_type": "execute_result"
    }
   ],
   "source": [
    "#for multiclass classification the average should be None\n",
    "f1_train = f1_score(y_train, RF.predict(X_train), average=None)\n",
    "f1_train"
   ]
  },
  {
   "cell_type": "code",
   "execution_count": 12,
   "metadata": {},
   "outputs": [
    {
     "data": {
      "text/plain": [
       "array([0.8125    , 0.68965517])"
      ]
     },
     "execution_count": 12,
     "metadata": {},
     "output_type": "execute_result"
    }
   ],
   "source": [
    "#for multiclass classification the average should be None\n",
    "f1_test = f1_score(y_test, RF.predict(X_test), average=None)\n",
    "f1_test"
   ]
  },
  {
   "cell_type": "code",
   "execution_count": 13,
   "metadata": {},
   "outputs": [
    {
     "data": {
      "text/plain": [
       "array([[383,  18],\n",
       "       [ 18, 195]], dtype=int64)"
      ]
     },
     "execution_count": 13,
     "metadata": {},
     "output_type": "execute_result"
    }
   ],
   "source": [
    "confusion_matrix_train = confusion_matrix(y_train, RF.predict(X_train), labels=[0,1])\n",
    "confusion_matrix_train"
   ]
  },
  {
   "cell_type": "code",
   "execution_count": 14,
   "metadata": {},
   "outputs": [
    {
     "data": {
      "text/plain": [
       "array([[78, 21],\n",
       "       [15, 40]], dtype=int64)"
      ]
     },
     "execution_count": 14,
     "metadata": {},
     "output_type": "execute_result"
    }
   ],
   "source": [
    "confusion_matrix_test = confusion_matrix(y_test, RF.predict(X_test), labels=[0,1])\n",
    "confusion_matrix_test"
   ]
  }
 ],
 "metadata": {
  "kernelspec": {
   "display_name": "Python [default]",
   "language": "python",
   "name": "python3"
  },
  "language_info": {
   "codemirror_mode": {
    "name": "ipython",
    "version": 3
   },
   "file_extension": ".py",
   "mimetype": "text/x-python",
   "name": "python",
   "nbconvert_exporter": "python",
   "pygments_lexer": "ipython3",
   "version": "3.5.6"
  }
 },
 "nbformat": 4,
 "nbformat_minor": 2
}
