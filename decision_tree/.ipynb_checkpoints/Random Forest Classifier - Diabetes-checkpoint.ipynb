{
 "cells": [
  {
   "cell_type": "code",
   "execution_count": 132,
   "metadata": {},
   "outputs": [
    {
     "data": {
      "text/html": [
       "<div>\n",
       "<style scoped>\n",
       "    .dataframe tbody tr th:only-of-type {\n",
       "        vertical-align: middle;\n",
       "    }\n",
       "\n",
       "    .dataframe tbody tr th {\n",
       "        vertical-align: top;\n",
       "    }\n",
       "\n",
       "    .dataframe thead th {\n",
       "        text-align: right;\n",
       "    }\n",
       "</style>\n",
       "<table border=\"1\" class=\"dataframe\">\n",
       "  <thead>\n",
       "    <tr style=\"text-align: right;\">\n",
       "      <th></th>\n",
       "      <th>pregnancies</th>\n",
       "      <th>glucose</th>\n",
       "      <th>diastolic</th>\n",
       "      <th>triceps</th>\n",
       "      <th>insulin</th>\n",
       "      <th>bmi</th>\n",
       "      <th>dpf</th>\n",
       "      <th>age</th>\n",
       "      <th>diabetes</th>\n",
       "    </tr>\n",
       "  </thead>\n",
       "  <tbody>\n",
       "    <tr>\n",
       "      <th>763</th>\n",
       "      <td>10</td>\n",
       "      <td>101</td>\n",
       "      <td>76</td>\n",
       "      <td>48</td>\n",
       "      <td>180</td>\n",
       "      <td>32.9</td>\n",
       "      <td>0.171</td>\n",
       "      <td>63</td>\n",
       "      <td>0</td>\n",
       "    </tr>\n",
       "    <tr>\n",
       "      <th>764</th>\n",
       "      <td>2</td>\n",
       "      <td>122</td>\n",
       "      <td>70</td>\n",
       "      <td>27</td>\n",
       "      <td>0</td>\n",
       "      <td>36.8</td>\n",
       "      <td>0.340</td>\n",
       "      <td>27</td>\n",
       "      <td>0</td>\n",
       "    </tr>\n",
       "    <tr>\n",
       "      <th>765</th>\n",
       "      <td>5</td>\n",
       "      <td>121</td>\n",
       "      <td>72</td>\n",
       "      <td>23</td>\n",
       "      <td>112</td>\n",
       "      <td>26.2</td>\n",
       "      <td>0.245</td>\n",
       "      <td>30</td>\n",
       "      <td>0</td>\n",
       "    </tr>\n",
       "    <tr>\n",
       "      <th>766</th>\n",
       "      <td>1</td>\n",
       "      <td>126</td>\n",
       "      <td>60</td>\n",
       "      <td>0</td>\n",
       "      <td>0</td>\n",
       "      <td>30.1</td>\n",
       "      <td>0.349</td>\n",
       "      <td>47</td>\n",
       "      <td>1</td>\n",
       "    </tr>\n",
       "    <tr>\n",
       "      <th>767</th>\n",
       "      <td>1</td>\n",
       "      <td>93</td>\n",
       "      <td>70</td>\n",
       "      <td>31</td>\n",
       "      <td>0</td>\n",
       "      <td>30.4</td>\n",
       "      <td>0.315</td>\n",
       "      <td>23</td>\n",
       "      <td>0</td>\n",
       "    </tr>\n",
       "  </tbody>\n",
       "</table>\n",
       "</div>"
      ],
      "text/plain": [
       "     pregnancies  glucose  diastolic  triceps  insulin   bmi    dpf  age  \\\n",
       "763           10      101         76       48      180  32.9  0.171   63   \n",
       "764            2      122         70       27        0  36.8  0.340   27   \n",
       "765            5      121         72       23      112  26.2  0.245   30   \n",
       "766            1      126         60        0        0  30.1  0.349   47   \n",
       "767            1       93         70       31        0  30.4  0.315   23   \n",
       "\n",
       "     diabetes  \n",
       "763         0  \n",
       "764         0  \n",
       "765         0  \n",
       "766         1  \n",
       "767         0  "
      ]
     },
     "execution_count": 132,
     "metadata": {},
     "output_type": "execute_result"
    }
   ],
   "source": [
    "from pandas import read_csv, get_dummies\n",
    "from sklearn.model_selection import train_test_split, GridSearchCV\n",
    "from sklearn.ensemble import RandomForestClassifier\n",
    "from sklearn.preprocessing import StandardScaler, PolynomialFeatures\n",
    "from sklearn.pipeline import Pipeline\n",
    "from sklearn.metrics import f1_score, classification_report, confusion_matrix\n",
    "\n",
    "df = read_csv(\"./data/diabetes.csv\")\n",
    "df.tail()"
   ]
  },
  {
   "cell_type": "code",
   "execution_count": 133,
   "metadata": {},
   "outputs": [],
   "source": [
    "X = df.drop(\"diabetes\", axis=1)\n",
    "y = df.diabetes"
   ]
  },
  {
   "cell_type": "code",
   "execution_count": 134,
   "metadata": {},
   "outputs": [
    {
     "data": {
      "text/html": [
       "<div>\n",
       "<style scoped>\n",
       "    .dataframe tbody tr th:only-of-type {\n",
       "        vertical-align: middle;\n",
       "    }\n",
       "\n",
       "    .dataframe tbody tr th {\n",
       "        vertical-align: top;\n",
       "    }\n",
       "\n",
       "    .dataframe thead th {\n",
       "        text-align: right;\n",
       "    }\n",
       "</style>\n",
       "<table border=\"1\" class=\"dataframe\">\n",
       "  <thead>\n",
       "    <tr style=\"text-align: right;\">\n",
       "      <th></th>\n",
       "      <th>pregnancies</th>\n",
       "      <th>glucose</th>\n",
       "      <th>diastolic</th>\n",
       "      <th>triceps</th>\n",
       "      <th>insulin</th>\n",
       "      <th>bmi</th>\n",
       "      <th>dpf</th>\n",
       "      <th>age</th>\n",
       "      <th>diabetes</th>\n",
       "    </tr>\n",
       "  </thead>\n",
       "  <tbody>\n",
       "    <tr>\n",
       "      <th>0</th>\n",
       "      <td>6</td>\n",
       "      <td>148</td>\n",
       "      <td>72</td>\n",
       "      <td>35</td>\n",
       "      <td>0</td>\n",
       "      <td>33.6</td>\n",
       "      <td>0.627</td>\n",
       "      <td>50</td>\n",
       "      <td>1</td>\n",
       "    </tr>\n",
       "    <tr>\n",
       "      <th>1</th>\n",
       "      <td>1</td>\n",
       "      <td>85</td>\n",
       "      <td>66</td>\n",
       "      <td>29</td>\n",
       "      <td>0</td>\n",
       "      <td>26.6</td>\n",
       "      <td>0.351</td>\n",
       "      <td>31</td>\n",
       "      <td>0</td>\n",
       "    </tr>\n",
       "    <tr>\n",
       "      <th>2</th>\n",
       "      <td>8</td>\n",
       "      <td>183</td>\n",
       "      <td>64</td>\n",
       "      <td>0</td>\n",
       "      <td>0</td>\n",
       "      <td>23.3</td>\n",
       "      <td>0.672</td>\n",
       "      <td>32</td>\n",
       "      <td>1</td>\n",
       "    </tr>\n",
       "    <tr>\n",
       "      <th>3</th>\n",
       "      <td>1</td>\n",
       "      <td>89</td>\n",
       "      <td>66</td>\n",
       "      <td>23</td>\n",
       "      <td>94</td>\n",
       "      <td>28.1</td>\n",
       "      <td>0.167</td>\n",
       "      <td>21</td>\n",
       "      <td>0</td>\n",
       "    </tr>\n",
       "    <tr>\n",
       "      <th>4</th>\n",
       "      <td>0</td>\n",
       "      <td>137</td>\n",
       "      <td>40</td>\n",
       "      <td>35</td>\n",
       "      <td>168</td>\n",
       "      <td>43.1</td>\n",
       "      <td>2.288</td>\n",
       "      <td>33</td>\n",
       "      <td>1</td>\n",
       "    </tr>\n",
       "  </tbody>\n",
       "</table>\n",
       "</div>"
      ],
      "text/plain": [
       "   pregnancies  glucose  diastolic  triceps  insulin   bmi    dpf  age  \\\n",
       "0            6      148         72       35        0  33.6  0.627   50   \n",
       "1            1       85         66       29        0  26.6  0.351   31   \n",
       "2            8      183         64        0        0  23.3  0.672   32   \n",
       "3            1       89         66       23       94  28.1  0.167   21   \n",
       "4            0      137         40       35      168  43.1  2.288   33   \n",
       "\n",
       "   diabetes  \n",
       "0         1  \n",
       "1         0  \n",
       "2         1  \n",
       "3         0  \n",
       "4         1  "
      ]
     },
     "execution_count": 134,
     "metadata": {},
     "output_type": "execute_result"
    }
   ],
   "source": [
    "df.head()\n",
    "#drop all the NA cols\n",
    "#df.dropna()\n",
    "#if you want to change NA values with median/ mode/ mean we can use imputer method available in SciKit Learn"
   ]
  },
  {
   "cell_type": "code",
   "execution_count": 135,
   "metadata": {},
   "outputs": [
    {
     "data": {
      "text/plain": [
       "((614, 8), (614,), (154, 8), (154,))"
      ]
     },
     "execution_count": 135,
     "metadata": {},
     "output_type": "execute_result"
    }
   ],
   "source": [
    "X_train, X_test, y_train, y_test = train_test_split(X, y, test_size=0.2, random_state=42)\n",
    "\n",
    "X_train.shape, y_train.shape, X_test.shape, y_test.shape"
   ]
  },
  {
   "cell_type": "code",
   "execution_count": 136,
   "metadata": {},
   "outputs": [
    {
     "name": "stdout",
     "output_type": "stream",
     "text": [
      "Fitting 3 folds for each of 72 candidates, totalling 216 fits\n"
     ]
    },
    {
     "name": "stderr",
     "output_type": "stream",
     "text": [
      "[Parallel(n_jobs=1)]: Done 216 out of 216 | elapsed:   12.7s finished\n"
     ]
    },
    {
     "data": {
      "text/plain": [
       "{'RF__class_weight': 'balanced',\n",
       " 'RF__max_features': 'sqrt',\n",
       " 'RF__min_samples_leaf': 3,\n",
       " 'RF__n_estimators': 20,\n",
       " 'poly__degree': 1,\n",
       " 'poly__interaction_only': False}"
      ]
     },
     "execution_count": 136,
     "metadata": {},
     "output_type": "execute_result"
    }
   ],
   "source": [
    "pipeline = Pipeline([\n",
    "    (\"poly\", PolynomialFeatures()),\n",
    "    (\"Scaler\", StandardScaler()),\n",
    "    (\"RF\", RandomForestClassifier())\n",
    "])\n",
    "#class weight based on the proportions of number of samples\n",
    "params = {\n",
    "    \"poly__degree\" : [1,2],\n",
    "    \"poly__interaction_only\" : [True, False],\n",
    "    \"RF__n_estimators\" : [5, 10, 20],\n",
    "    \"RF__max_features\" : [0.5, None, \"sqrt\"],\n",
    "    \"RF__min_samples_leaf\" : [1, 3],\n",
    "    \"RF__class_weight\" : [\"balanced\"]\n",
    "}\n",
    "\n",
    "#scoring f1 weighted is for multiclass\n",
    "\n",
    "#n_jobs = -1 use all processors, 2 = use 2 processors\n",
    "RF = GridSearchCV(pipeline,param_grid=params,cv=3, scoring=\"f1_weighted\", verbose=1, n_jobs=-1)\n",
    "RF.fit(X_train,y_train)\n",
    "\n",
    "RF.best_params_"
   ]
  },
  {
   "cell_type": "code",
   "execution_count": 137,
   "metadata": {},
   "outputs": [
    {
     "name": "stderr",
     "output_type": "stream",
     "text": [
      "d:\\python-3.6.5\\lib\\site-packages\\sklearn\\model_selection\\_search.py:761: DeprecationWarning: The grid_scores_ attribute was deprecated in version 0.18 in favor of the more elaborate cv_results_ attribute. The grid_scores_ attribute will not be available from 0.20\n",
      "  DeprecationWarning)\n"
     ]
    },
    {
     "data": {
      "text/plain": [
       "[mean: 0.74448, std: 0.01109, params: {'RF__class_weight': 'balanced', 'RF__max_features': 0.5, 'RF__min_samples_leaf': 1, 'RF__n_estimators': 5, 'poly__degree': 1, 'poly__interaction_only': True},\n",
       " mean: 0.73045, std: 0.01220, params: {'RF__class_weight': 'balanced', 'RF__max_features': 0.5, 'RF__min_samples_leaf': 1, 'RF__n_estimators': 5, 'poly__degree': 1, 'poly__interaction_only': False},\n",
       " mean: 0.73503, std: 0.01069, params: {'RF__class_weight': 'balanced', 'RF__max_features': 0.5, 'RF__min_samples_leaf': 1, 'RF__n_estimators': 5, 'poly__degree': 2, 'poly__interaction_only': True},\n",
       " mean: 0.72697, std: 0.01011, params: {'RF__class_weight': 'balanced', 'RF__max_features': 0.5, 'RF__min_samples_leaf': 1, 'RF__n_estimators': 5, 'poly__degree': 2, 'poly__interaction_only': False},\n",
       " mean: 0.75264, std: 0.01778, params: {'RF__class_weight': 'balanced', 'RF__max_features': 0.5, 'RF__min_samples_leaf': 1, 'RF__n_estimators': 10, 'poly__degree': 1, 'poly__interaction_only': True},\n",
       " mean: 0.74899, std: 0.03832, params: {'RF__class_weight': 'balanced', 'RF__max_features': 0.5, 'RF__min_samples_leaf': 1, 'RF__n_estimators': 10, 'poly__degree': 1, 'poly__interaction_only': False},\n",
       " mean: 0.73456, std: 0.01890, params: {'RF__class_weight': 'balanced', 'RF__max_features': 0.5, 'RF__min_samples_leaf': 1, 'RF__n_estimators': 10, 'poly__degree': 2, 'poly__interaction_only': True},\n",
       " mean: 0.73295, std: 0.03403, params: {'RF__class_weight': 'balanced', 'RF__max_features': 0.5, 'RF__min_samples_leaf': 1, 'RF__n_estimators': 10, 'poly__degree': 2, 'poly__interaction_only': False},\n",
       " mean: 0.74497, std: 0.03169, params: {'RF__class_weight': 'balanced', 'RF__max_features': 0.5, 'RF__min_samples_leaf': 1, 'RF__n_estimators': 20, 'poly__degree': 1, 'poly__interaction_only': True},\n",
       " mean: 0.75527, std: 0.00942, params: {'RF__class_weight': 'balanced', 'RF__max_features': 0.5, 'RF__min_samples_leaf': 1, 'RF__n_estimators': 20, 'poly__degree': 1, 'poly__interaction_only': False},\n",
       " mean: 0.74439, std: 0.02222, params: {'RF__class_weight': 'balanced', 'RF__max_features': 0.5, 'RF__min_samples_leaf': 1, 'RF__n_estimators': 20, 'poly__degree': 2, 'poly__interaction_only': True},\n",
       " mean: 0.74019, std: 0.00934, params: {'RF__class_weight': 'balanced', 'RF__max_features': 0.5, 'RF__min_samples_leaf': 1, 'RF__n_estimators': 20, 'poly__degree': 2, 'poly__interaction_only': False},\n",
       " mean: 0.74702, std: 0.01171, params: {'RF__class_weight': 'balanced', 'RF__max_features': 0.5, 'RF__min_samples_leaf': 3, 'RF__n_estimators': 5, 'poly__degree': 1, 'poly__interaction_only': True},\n",
       " mean: 0.73330, std: 0.01212, params: {'RF__class_weight': 'balanced', 'RF__max_features': 0.5, 'RF__min_samples_leaf': 3, 'RF__n_estimators': 5, 'poly__degree': 1, 'poly__interaction_only': False},\n",
       " mean: 0.73882, std: 0.02550, params: {'RF__class_weight': 'balanced', 'RF__max_features': 0.5, 'RF__min_samples_leaf': 3, 'RF__n_estimators': 5, 'poly__degree': 2, 'poly__interaction_only': True},\n",
       " mean: 0.74050, std: 0.03545, params: {'RF__class_weight': 'balanced', 'RF__max_features': 0.5, 'RF__min_samples_leaf': 3, 'RF__n_estimators': 5, 'poly__degree': 2, 'poly__interaction_only': False},\n",
       " mean: 0.75045, std: 0.01779, params: {'RF__class_weight': 'balanced', 'RF__max_features': 0.5, 'RF__min_samples_leaf': 3, 'RF__n_estimators': 10, 'poly__degree': 1, 'poly__interaction_only': True},\n",
       " mean: 0.76621, std: 0.00572, params: {'RF__class_weight': 'balanced', 'RF__max_features': 0.5, 'RF__min_samples_leaf': 3, 'RF__n_estimators': 10, 'poly__degree': 1, 'poly__interaction_only': False},\n",
       " mean: 0.75872, std: 0.02198, params: {'RF__class_weight': 'balanced', 'RF__max_features': 0.5, 'RF__min_samples_leaf': 3, 'RF__n_estimators': 10, 'poly__degree': 2, 'poly__interaction_only': True},\n",
       " mean: 0.76981, std: 0.01701, params: {'RF__class_weight': 'balanced', 'RF__max_features': 0.5, 'RF__min_samples_leaf': 3, 'RF__n_estimators': 10, 'poly__degree': 2, 'poly__interaction_only': False},\n",
       " mean: 0.75534, std: 0.01863, params: {'RF__class_weight': 'balanced', 'RF__max_features': 0.5, 'RF__min_samples_leaf': 3, 'RF__n_estimators': 20, 'poly__degree': 1, 'poly__interaction_only': True},\n",
       " mean: 0.75707, std: 0.02580, params: {'RF__class_weight': 'balanced', 'RF__max_features': 0.5, 'RF__min_samples_leaf': 3, 'RF__n_estimators': 20, 'poly__degree': 1, 'poly__interaction_only': False},\n",
       " mean: 0.75853, std: 0.03265, params: {'RF__class_weight': 'balanced', 'RF__max_features': 0.5, 'RF__min_samples_leaf': 3, 'RF__n_estimators': 20, 'poly__degree': 2, 'poly__interaction_only': True},\n",
       " mean: 0.76669, std: 0.01299, params: {'RF__class_weight': 'balanced', 'RF__max_features': 0.5, 'RF__min_samples_leaf': 3, 'RF__n_estimators': 20, 'poly__degree': 2, 'poly__interaction_only': False},\n",
       " mean: 0.72535, std: 0.00613, params: {'RF__class_weight': 'balanced', 'RF__max_features': None, 'RF__min_samples_leaf': 1, 'RF__n_estimators': 5, 'poly__degree': 1, 'poly__interaction_only': True},\n",
       " mean: 0.73054, std: 0.02365, params: {'RF__class_weight': 'balanced', 'RF__max_features': None, 'RF__min_samples_leaf': 1, 'RF__n_estimators': 5, 'poly__degree': 1, 'poly__interaction_only': False},\n",
       " mean: 0.71539, std: 0.01267, params: {'RF__class_weight': 'balanced', 'RF__max_features': None, 'RF__min_samples_leaf': 1, 'RF__n_estimators': 5, 'poly__degree': 2, 'poly__interaction_only': True},\n",
       " mean: 0.72394, std: 0.00504, params: {'RF__class_weight': 'balanced', 'RF__max_features': None, 'RF__min_samples_leaf': 1, 'RF__n_estimators': 5, 'poly__degree': 2, 'poly__interaction_only': False},\n",
       " mean: 0.73792, std: 0.01278, params: {'RF__class_weight': 'balanced', 'RF__max_features': None, 'RF__min_samples_leaf': 1, 'RF__n_estimators': 10, 'poly__degree': 1, 'poly__interaction_only': True},\n",
       " mean: 0.75820, std: 0.02048, params: {'RF__class_weight': 'balanced', 'RF__max_features': None, 'RF__min_samples_leaf': 1, 'RF__n_estimators': 10, 'poly__degree': 1, 'poly__interaction_only': False},\n",
       " mean: 0.73638, std: 0.01994, params: {'RF__class_weight': 'balanced', 'RF__max_features': None, 'RF__min_samples_leaf': 1, 'RF__n_estimators': 10, 'poly__degree': 2, 'poly__interaction_only': True},\n",
       " mean: 0.74997, std: 0.00996, params: {'RF__class_weight': 'balanced', 'RF__max_features': None, 'RF__min_samples_leaf': 1, 'RF__n_estimators': 10, 'poly__degree': 2, 'poly__interaction_only': False},\n",
       " mean: 0.75260, std: 0.00330, params: {'RF__class_weight': 'balanced', 'RF__max_features': None, 'RF__min_samples_leaf': 1, 'RF__n_estimators': 20, 'poly__degree': 1, 'poly__interaction_only': True},\n",
       " mean: 0.76266, std: 0.00945, params: {'RF__class_weight': 'balanced', 'RF__max_features': None, 'RF__min_samples_leaf': 1, 'RF__n_estimators': 20, 'poly__degree': 1, 'poly__interaction_only': False},\n",
       " mean: 0.74748, std: 0.02492, params: {'RF__class_weight': 'balanced', 'RF__max_features': None, 'RF__min_samples_leaf': 1, 'RF__n_estimators': 20, 'poly__degree': 2, 'poly__interaction_only': True},\n",
       " mean: 0.74999, std: 0.01396, params: {'RF__class_weight': 'balanced', 'RF__max_features': None, 'RF__min_samples_leaf': 1, 'RF__n_estimators': 20, 'poly__degree': 2, 'poly__interaction_only': False},\n",
       " mean: 0.74551, std: 0.03156, params: {'RF__class_weight': 'balanced', 'RF__max_features': None, 'RF__min_samples_leaf': 3, 'RF__n_estimators': 5, 'poly__degree': 1, 'poly__interaction_only': True},\n",
       " mean: 0.75874, std: 0.01351, params: {'RF__class_weight': 'balanced', 'RF__max_features': None, 'RF__min_samples_leaf': 3, 'RF__n_estimators': 5, 'poly__degree': 1, 'poly__interaction_only': False},\n",
       " mean: 0.75549, std: 0.02715, params: {'RF__class_weight': 'balanced', 'RF__max_features': None, 'RF__min_samples_leaf': 3, 'RF__n_estimators': 5, 'poly__degree': 2, 'poly__interaction_only': True},\n",
       " mean: 0.72942, std: 0.03352, params: {'RF__class_weight': 'balanced', 'RF__max_features': None, 'RF__min_samples_leaf': 3, 'RF__n_estimators': 5, 'poly__degree': 2, 'poly__interaction_only': False},\n",
       " mean: 0.75579, std: 0.00753, params: {'RF__class_weight': 'balanced', 'RF__max_features': None, 'RF__min_samples_leaf': 3, 'RF__n_estimators': 10, 'poly__degree': 1, 'poly__interaction_only': True},\n",
       " mean: 0.76407, std: 0.00403, params: {'RF__class_weight': 'balanced', 'RF__max_features': None, 'RF__min_samples_leaf': 3, 'RF__n_estimators': 10, 'poly__degree': 1, 'poly__interaction_only': False},\n",
       " mean: 0.75401, std: 0.00901, params: {'RF__class_weight': 'balanced', 'RF__max_features': None, 'RF__min_samples_leaf': 3, 'RF__n_estimators': 10, 'poly__degree': 2, 'poly__interaction_only': True},\n",
       " mean: 0.75991, std: 0.02860, params: {'RF__class_weight': 'balanced', 'RF__max_features': None, 'RF__min_samples_leaf': 3, 'RF__n_estimators': 10, 'poly__degree': 2, 'poly__interaction_only': False},\n",
       " mean: 0.75841, std: 0.00691, params: {'RF__class_weight': 'balanced', 'RF__max_features': None, 'RF__min_samples_leaf': 3, 'RF__n_estimators': 20, 'poly__degree': 1, 'poly__interaction_only': True},\n",
       " mean: 0.77037, std: 0.01888, params: {'RF__class_weight': 'balanced', 'RF__max_features': None, 'RF__min_samples_leaf': 3, 'RF__n_estimators': 20, 'poly__degree': 1, 'poly__interaction_only': False},\n",
       " mean: 0.75709, std: 0.01303, params: {'RF__class_weight': 'balanced', 'RF__max_features': None, 'RF__min_samples_leaf': 3, 'RF__n_estimators': 20, 'poly__degree': 2, 'poly__interaction_only': True},\n",
       " mean: 0.76116, std: 0.01879, params: {'RF__class_weight': 'balanced', 'RF__max_features': None, 'RF__min_samples_leaf': 3, 'RF__n_estimators': 20, 'poly__degree': 2, 'poly__interaction_only': False},\n",
       " mean: 0.76311, std: 0.01563, params: {'RF__class_weight': 'balanced', 'RF__max_features': 'sqrt', 'RF__min_samples_leaf': 1, 'RF__n_estimators': 5, 'poly__degree': 1, 'poly__interaction_only': True},\n",
       " mean: 0.73376, std: 0.01005, params: {'RF__class_weight': 'balanced', 'RF__max_features': 'sqrt', 'RF__min_samples_leaf': 1, 'RF__n_estimators': 5, 'poly__degree': 1, 'poly__interaction_only': False},\n",
       " mean: 0.73262, std: 0.02001, params: {'RF__class_weight': 'balanced', 'RF__max_features': 'sqrt', 'RF__min_samples_leaf': 1, 'RF__n_estimators': 5, 'poly__degree': 2, 'poly__interaction_only': True},\n",
       " mean: 0.73903, std: 0.00703, params: {'RF__class_weight': 'balanced', 'RF__max_features': 'sqrt', 'RF__min_samples_leaf': 1, 'RF__n_estimators': 5, 'poly__degree': 2, 'poly__interaction_only': False},\n",
       " mean: 0.73303, std: 0.01423, params: {'RF__class_weight': 'balanced', 'RF__max_features': 'sqrt', 'RF__min_samples_leaf': 1, 'RF__n_estimators': 10, 'poly__degree': 1, 'poly__interaction_only': True},\n",
       " mean: 0.73717, std: 0.01140, params: {'RF__class_weight': 'balanced', 'RF__max_features': 'sqrt', 'RF__min_samples_leaf': 1, 'RF__n_estimators': 10, 'poly__degree': 1, 'poly__interaction_only': False},\n",
       " mean: 0.72302, std: 0.02910, params: {'RF__class_weight': 'balanced', 'RF__max_features': 'sqrt', 'RF__min_samples_leaf': 1, 'RF__n_estimators': 10, 'poly__degree': 2, 'poly__interaction_only': True},\n",
       " mean: 0.74227, std: 0.02611, params: {'RF__class_weight': 'balanced', 'RF__max_features': 'sqrt', 'RF__min_samples_leaf': 1, 'RF__n_estimators': 10, 'poly__degree': 2, 'poly__interaction_only': False},\n",
       " mean: 0.74372, std: 0.00614, params: {'RF__class_weight': 'balanced', 'RF__max_features': 'sqrt', 'RF__min_samples_leaf': 1, 'RF__n_estimators': 20, 'poly__degree': 1, 'poly__interaction_only': True},\n",
       " mean: 0.75806, std: 0.00660, params: {'RF__class_weight': 'balanced', 'RF__max_features': 'sqrt', 'RF__min_samples_leaf': 1, 'RF__n_estimators': 20, 'poly__degree': 1, 'poly__interaction_only': False},\n",
       " mean: 0.74506, std: 0.00848, params: {'RF__class_weight': 'balanced', 'RF__max_features': 'sqrt', 'RF__min_samples_leaf': 1, 'RF__n_estimators': 20, 'poly__degree': 2, 'poly__interaction_only': True},\n",
       " mean: 0.72651, std: 0.00514, params: {'RF__class_weight': 'balanced', 'RF__max_features': 'sqrt', 'RF__min_samples_leaf': 1, 'RF__n_estimators': 20, 'poly__degree': 2, 'poly__interaction_only': False},\n",
       " mean: 0.72774, std: 0.02034, params: {'RF__class_weight': 'balanced', 'RF__max_features': 'sqrt', 'RF__min_samples_leaf': 3, 'RF__n_estimators': 5, 'poly__degree': 1, 'poly__interaction_only': True},\n",
       " mean: 0.75037, std: 0.01327, params: {'RF__class_weight': 'balanced', 'RF__max_features': 'sqrt', 'RF__min_samples_leaf': 3, 'RF__n_estimators': 5, 'poly__degree': 1, 'poly__interaction_only': False},\n",
       " mean: 0.74463, std: 0.00919, params: {'RF__class_weight': 'balanced', 'RF__max_features': 'sqrt', 'RF__min_samples_leaf': 3, 'RF__n_estimators': 5, 'poly__degree': 2, 'poly__interaction_only': True},\n",
       " mean: 0.74626, std: 0.00889, params: {'RF__class_weight': 'balanced', 'RF__max_features': 'sqrt', 'RF__min_samples_leaf': 3, 'RF__n_estimators': 5, 'poly__degree': 2, 'poly__interaction_only': False},\n",
       " mean: 0.75115, std: 0.03078, params: {'RF__class_weight': 'balanced', 'RF__max_features': 'sqrt', 'RF__min_samples_leaf': 3, 'RF__n_estimators': 10, 'poly__degree': 1, 'poly__interaction_only': True},\n",
       " mean: 0.73989, std: 0.00817, params: {'RF__class_weight': 'balanced', 'RF__max_features': 'sqrt', 'RF__min_samples_leaf': 3, 'RF__n_estimators': 10, 'poly__degree': 1, 'poly__interaction_only': False},\n",
       " mean: 0.73373, std: 0.00947, params: {'RF__class_weight': 'balanced', 'RF__max_features': 'sqrt', 'RF__min_samples_leaf': 3, 'RF__n_estimators': 10, 'poly__degree': 2, 'poly__interaction_only': True},\n",
       " mean: 0.76644, std: 0.01086, params: {'RF__class_weight': 'balanced', 'RF__max_features': 'sqrt', 'RF__min_samples_leaf': 3, 'RF__n_estimators': 10, 'poly__degree': 2, 'poly__interaction_only': False},\n",
       " mean: 0.77148, std: 0.01195, params: {'RF__class_weight': 'balanced', 'RF__max_features': 'sqrt', 'RF__min_samples_leaf': 3, 'RF__n_estimators': 20, 'poly__degree': 1, 'poly__interaction_only': True},\n",
       " mean: 0.78480, std: 0.01703, params: {'RF__class_weight': 'balanced', 'RF__max_features': 'sqrt', 'RF__min_samples_leaf': 3, 'RF__n_estimators': 20, 'poly__degree': 1, 'poly__interaction_only': False},\n",
       " mean: 0.75780, std: 0.03789, params: {'RF__class_weight': 'balanced', 'RF__max_features': 'sqrt', 'RF__min_samples_leaf': 3, 'RF__n_estimators': 20, 'poly__degree': 2, 'poly__interaction_only': True},\n",
       " mean: 0.76561, std: 0.01502, params: {'RF__class_weight': 'balanced', 'RF__max_features': 'sqrt', 'RF__min_samples_leaf': 3, 'RF__n_estimators': 20, 'poly__degree': 2, 'poly__interaction_only': False}]"
      ]
     },
     "execution_count": 137,
     "metadata": {},
     "output_type": "execute_result"
    }
   ],
   "source": [
    "RF.grid_scores_"
   ]
  },
  {
   "cell_type": "code",
   "execution_count": 138,
   "metadata": {},
   "outputs": [
    {
     "data": {
      "text/plain": [
       "(0.9384297733332487, 0.7557727832512315)"
      ]
     },
     "execution_count": 138,
     "metadata": {},
     "output_type": "execute_result"
    }
   ],
   "source": [
    "RF.score(X_train, y_train), RF.score(X_test, y_test)"
   ]
  },
  {
   "cell_type": "code",
   "execution_count": 139,
   "metadata": {},
   "outputs": [
    {
     "data": {
      "text/plain": [
       "'             precision    recall  f1-score   support\\n\\n          0       0.96      0.94      0.95       401\\n          1       0.89      0.93      0.91       213\\n\\navg / total       0.94      0.94      0.94       614\\n'"
      ]
     },
     "execution_count": 139,
     "metadata": {},
     "output_type": "execute_result"
    }
   ],
   "source": [
    "classification_report_train = classification_report(y_train, RF.predict(X_train))\n",
    "classification_report_train"
   ]
  },
  {
   "cell_type": "code",
   "execution_count": 140,
   "metadata": {},
   "outputs": [
    {
     "data": {
      "text/plain": [
       "'             precision    recall  f1-score   support\\n\\n          0       0.83      0.78      0.80        99\\n          1       0.64      0.71      0.67        55\\n\\navg / total       0.76      0.75      0.76       154\\n'"
      ]
     },
     "execution_count": 140,
     "metadata": {},
     "output_type": "execute_result"
    }
   ],
   "source": [
    "classification_report_test = classification_report(y_test, RF.predict(X_test))\n",
    "classification_report_test"
   ]
  },
  {
   "cell_type": "code",
   "execution_count": 141,
   "metadata": {},
   "outputs": [
    {
     "data": {
      "text/plain": [
       "array([0.9520202 , 0.91284404])"
      ]
     },
     "execution_count": 141,
     "metadata": {},
     "output_type": "execute_result"
    }
   ],
   "source": [
    "#for multiclass classification the average should be None\n",
    "f1_train = f1_score(y_train, RF.predict(X_train), average=None)\n",
    "f1_train"
   ]
  },
  {
   "cell_type": "code",
   "execution_count": 142,
   "metadata": {},
   "outputs": [
    {
     "data": {
      "text/plain": [
       "array([0.80208333, 0.67241379])"
      ]
     },
     "execution_count": 142,
     "metadata": {},
     "output_type": "execute_result"
    }
   ],
   "source": [
    "#for multiclass classification the average should be None\n",
    "f1_test = f1_score(y_test, RF.predict(X_test), average=None)\n",
    "f1_test"
   ]
  },
  {
   "cell_type": "code",
   "execution_count": 143,
   "metadata": {},
   "outputs": [
    {
     "data": {
      "text/plain": [
       "array([[377,  24],\n",
       "       [ 14, 199]], dtype=int64)"
      ]
     },
     "execution_count": 143,
     "metadata": {},
     "output_type": "execute_result"
    }
   ],
   "source": [
    "confusion_matrix_train = confusion_matrix(y_train, RF.predict(X_train), labels=[0,1])\n",
    "confusion_matrix_train"
   ]
  },
  {
   "cell_type": "code",
   "execution_count": 144,
   "metadata": {},
   "outputs": [
    {
     "data": {
      "text/plain": [
       "array([[77, 22],\n",
       "       [16, 39]], dtype=int64)"
      ]
     },
     "execution_count": 144,
     "metadata": {},
     "output_type": "execute_result"
    }
   ],
   "source": [
    "confusion_matrix_test = confusion_matrix(y_test, RF.predict(X_test), labels=[0,1])\n",
    "confusion_matrix_test"
   ]
  }
 ],
 "metadata": {
  "kernelspec": {
   "display_name": "Python 3",
   "language": "python",
   "name": "python3"
  },
  "language_info": {
   "codemirror_mode": {
    "name": "ipython",
    "version": 3
   },
   "file_extension": ".py",
   "mimetype": "text/x-python",
   "name": "python",
   "nbconvert_exporter": "python",
   "pygments_lexer": "ipython3",
   "version": "3.6.5"
  }
 },
 "nbformat": 4,
 "nbformat_minor": 2
}
