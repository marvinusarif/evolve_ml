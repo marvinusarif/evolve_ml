{
 "cells": [
  {
   "cell_type": "code",
   "execution_count": 72,
   "metadata": {},
   "outputs": [
    {
     "data": {
      "text/html": [
       "<div>\n",
       "<style scoped>\n",
       "    .dataframe tbody tr th:only-of-type {\n",
       "        vertical-align: middle;\n",
       "    }\n",
       "\n",
       "    .dataframe tbody tr th {\n",
       "        vertical-align: top;\n",
       "    }\n",
       "\n",
       "    .dataframe thead th {\n",
       "        text-align: right;\n",
       "    }\n",
       "</style>\n",
       "<table border=\"1\" class=\"dataframe\">\n",
       "  <thead>\n",
       "    <tr style=\"text-align: right;\">\n",
       "      <th></th>\n",
       "      <th>var_1</th>\n",
       "      <th>var_2</th>\n",
       "      <th>var_3</th>\n",
       "      <th>var_4</th>\n",
       "      <th>var_5</th>\n",
       "      <th>origin</th>\n",
       "      <th>Labels</th>\n",
       "    </tr>\n",
       "  </thead>\n",
       "  <tbody>\n",
       "    <tr>\n",
       "      <th>380</th>\n",
       "      <td>18.0</td>\n",
       "      <td>250.0</td>\n",
       "      <td>88</td>\n",
       "      <td>3021</td>\n",
       "      <td>16.5</td>\n",
       "      <td>US</td>\n",
       "      <td>15</td>\n",
       "    </tr>\n",
       "    <tr>\n",
       "      <th>381</th>\n",
       "      <td>27.0</td>\n",
       "      <td>151.0</td>\n",
       "      <td>90</td>\n",
       "      <td>2950</td>\n",
       "      <td>17.3</td>\n",
       "      <td>US</td>\n",
       "      <td>10</td>\n",
       "    </tr>\n",
       "    <tr>\n",
       "      <th>382</th>\n",
       "      <td>29.5</td>\n",
       "      <td>98.0</td>\n",
       "      <td>68</td>\n",
       "      <td>2135</td>\n",
       "      <td>16.6</td>\n",
       "      <td>Asia</td>\n",
       "      <td>10</td>\n",
       "    </tr>\n",
       "    <tr>\n",
       "      <th>383</th>\n",
       "      <td>17.5</td>\n",
       "      <td>250.0</td>\n",
       "      <td>110</td>\n",
       "      <td>3520</td>\n",
       "      <td>16.4</td>\n",
       "      <td>US</td>\n",
       "      <td>15</td>\n",
       "    </tr>\n",
       "    <tr>\n",
       "      <th>384</th>\n",
       "      <td>25.1</td>\n",
       "      <td>140.0</td>\n",
       "      <td>88</td>\n",
       "      <td>2720</td>\n",
       "      <td>15.4</td>\n",
       "      <td>US</td>\n",
       "      <td>10</td>\n",
       "    </tr>\n",
       "  </tbody>\n",
       "</table>\n",
       "</div>"
      ],
      "text/plain": [
       "     var_1  var_2  var_3  var_4  var_5 origin  Labels\n",
       "380   18.0  250.0     88   3021   16.5     US      15\n",
       "381   27.0  151.0     90   2950   17.3     US      10\n",
       "382   29.5   98.0     68   2135   16.6   Asia      10\n",
       "383   17.5  250.0    110   3520   16.4     US      15\n",
       "384   25.1  140.0     88   2720   15.4     US      10"
      ]
     },
     "execution_count": 72,
     "metadata": {},
     "output_type": "execute_result"
    }
   ],
   "source": [
    "from pandas import read_csv, get_dummies\n",
    "from sklearn.model_selection import train_test_split, GridSearchCV\n",
    "from sklearn.ensemble import RandomForestClassifier\n",
    "from sklearn.preprocessing import LabelEncoder, OneHotEncoder\n",
    "from sklearn.pipeline import Pipeline\n",
    "from sklearn.metrics import f1_score, classification_report, confusion_matrix\n",
    "\n",
    "df = read_csv(\"./data/sample.csv\")\n",
    "df.tail()"
   ]
  },
  {
   "cell_type": "code",
   "execution_count": 73,
   "metadata": {},
   "outputs": [],
   "source": [
    "X = df.drop(\"Labels\", axis=1)\n",
    "y = df.Labels"
   ]
  },
  {
   "cell_type": "code",
   "execution_count": 74,
   "metadata": {},
   "outputs": [
    {
     "data": {
      "text/plain": [
       "array([1, 2, 0, 1, 0, 0, 0, 0, 2, 2, 0, 0, 0, 2, 2, 2, 0, 0, 0, 1, 1, 2,\n",
       "       2, 0, 0, 0, 0, 1, 0, 1, 2, 0, 1, 0, 0, 2, 2, 0, 0, 0, 0, 2, 2, 0,\n",
       "       0, 0, 2, 0, 1, 2, 2, 0, 0, 0, 0, 1, 1, 1, 0, 0, 1, 1, 0, 1, 0, 2,\n",
       "       2, 2, 0, 2, 0, 2, 2, 1, 0, 1, 1, 1, 0, 1, 0, 0, 1, 0, 0, 2, 2, 0,\n",
       "       2, 0, 2, 1, 0, 0, 2, 0, 1, 1, 0, 0, 0, 0, 0, 0, 0, 1, 2, 0, 0, 2,\n",
       "       0, 2, 0, 2, 0, 2, 2, 2, 0, 0, 2, 0, 0, 0, 1, 0, 1, 2, 0, 0, 2, 2,\n",
       "       0, 1, 0, 1, 0, 0, 1, 1, 0, 1, 0, 0, 2, 0, 0, 2, 2, 0, 0, 1, 1, 0,\n",
       "       0, 0, 2, 0, 0, 0, 0, 0, 0, 2, 1, 2, 0, 1, 0, 2, 2, 0, 2, 0, 0, 2,\n",
       "       0, 1, 0, 1, 0, 0, 0, 1, 1, 0, 0, 2, 0, 2, 1, 2, 2, 1, 0, 0, 0, 1,\n",
       "       0, 1, 0, 0, 0, 1, 2, 0, 1, 0, 0, 0, 1, 1, 0, 0, 0, 2, 1, 2, 0, 2,\n",
       "       0, 0, 2, 1, 0, 1, 1, 1, 1, 0, 1, 2, 0, 0, 2, 0, 0, 0, 2, 0, 2, 1,\n",
       "       2, 0, 0, 2, 1, 0, 2, 2, 0, 2, 0, 0, 1, 2, 2, 0, 2, 1, 0, 2, 2, 2,\n",
       "       1, 2, 2, 2, 0, 1, 0, 0, 0, 0, 2, 0, 0, 0, 0, 0, 0, 0, 2, 1, 0, 2,\n",
       "       0, 1, 1, 0, 1, 1, 0, 0, 0, 2, 1, 0, 0, 0, 2, 0, 0, 0, 1, 0, 1, 2,\n",
       "       2, 2, 1, 2, 0, 2, 0, 0, 0, 0, 1, 2, 2, 0, 2, 0, 0, 2, 2, 2, 0, 0,\n",
       "       0, 2, 0, 0, 2, 0, 0, 0, 0, 2, 2, 0, 2, 0, 2, 1, 1, 0, 0, 0, 2, 1,\n",
       "       0, 1, 0, 0, 0, 0, 2, 1, 1, 2, 0, 0, 0, 2, 2, 0, 1, 0, 0, 1, 2, 1,\n",
       "       0, 1, 0, 0, 1, 0, 1, 0, 0, 1, 0], dtype=int32)"
      ]
     },
     "execution_count": 74,
     "metadata": {},
     "output_type": "execute_result"
    }
   ],
   "source": [
    "#replace origin with label encoder\n",
    "label_encoder = LabelEncoder()\n",
    "x_origin_encoded = label_encoder.fit_transform(y)\n",
    "x_origin_encoded"
   ]
  },
  {
   "cell_type": "code",
   "execution_count": 75,
   "metadata": {},
   "outputs": [
    {
     "data": {
      "text/plain": [
       "array([[0., 1., 0.],\n",
       "       [0., 0., 1.],\n",
       "       [1., 0., 0.],\n",
       "       ...,\n",
       "       [1., 0., 0.],\n",
       "       [0., 1., 0.],\n",
       "       [1., 0., 0.]])"
      ]
     },
     "execution_count": 75,
     "metadata": {},
     "output_type": "execute_result"
    }
   ],
   "source": [
    "#replace origin with one hot encoder\n",
    "onehot_encoder = OneHotEncoder(sparse=False)\n",
    "x_origin_encoded = x_origin_encoded.reshape(len(x_origin_encoded), 1)\n",
    "x_origin_onehot_encoded = onehot_encoder.fit_transform(x_origin_encoded)\n",
    "x_origin_onehot_encoded"
   ]
  },
  {
   "cell_type": "code",
   "execution_count": 76,
   "metadata": {},
   "outputs": [
    {
     "data": {
      "text/html": [
       "<div>\n",
       "<style scoped>\n",
       "    .dataframe tbody tr th:only-of-type {\n",
       "        vertical-align: middle;\n",
       "    }\n",
       "\n",
       "    .dataframe tbody tr th {\n",
       "        vertical-align: top;\n",
       "    }\n",
       "\n",
       "    .dataframe thead th {\n",
       "        text-align: right;\n",
       "    }\n",
       "</style>\n",
       "<table border=\"1\" class=\"dataframe\">\n",
       "  <thead>\n",
       "    <tr style=\"text-align: right;\">\n",
       "      <th></th>\n",
       "      <th>var_1</th>\n",
       "      <th>var_2</th>\n",
       "      <th>var_3</th>\n",
       "      <th>var_4</th>\n",
       "      <th>var_5</th>\n",
       "      <th>origin_Europe</th>\n",
       "      <th>origin_US</th>\n",
       "    </tr>\n",
       "  </thead>\n",
       "  <tbody>\n",
       "    <tr>\n",
       "      <th>0</th>\n",
       "      <td>18.0</td>\n",
       "      <td>250.0</td>\n",
       "      <td>88</td>\n",
       "      <td>3139</td>\n",
       "      <td>14.5</td>\n",
       "      <td>0</td>\n",
       "      <td>1</td>\n",
       "    </tr>\n",
       "    <tr>\n",
       "      <th>1</th>\n",
       "      <td>9.0</td>\n",
       "      <td>304.0</td>\n",
       "      <td>193</td>\n",
       "      <td>4732</td>\n",
       "      <td>18.5</td>\n",
       "      <td>0</td>\n",
       "      <td>1</td>\n",
       "    </tr>\n",
       "    <tr>\n",
       "      <th>2</th>\n",
       "      <td>36.1</td>\n",
       "      <td>91.0</td>\n",
       "      <td>60</td>\n",
       "      <td>1800</td>\n",
       "      <td>16.4</td>\n",
       "      <td>0</td>\n",
       "      <td>0</td>\n",
       "    </tr>\n",
       "    <tr>\n",
       "      <th>3</th>\n",
       "      <td>18.5</td>\n",
       "      <td>250.0</td>\n",
       "      <td>98</td>\n",
       "      <td>3525</td>\n",
       "      <td>19.0</td>\n",
       "      <td>0</td>\n",
       "      <td>1</td>\n",
       "    </tr>\n",
       "    <tr>\n",
       "      <th>4</th>\n",
       "      <td>34.3</td>\n",
       "      <td>97.0</td>\n",
       "      <td>78</td>\n",
       "      <td>2188</td>\n",
       "      <td>15.8</td>\n",
       "      <td>1</td>\n",
       "      <td>0</td>\n",
       "    </tr>\n",
       "  </tbody>\n",
       "</table>\n",
       "</div>"
      ],
      "text/plain": [
       "   var_1  var_2  var_3  var_4  var_5  origin_Europe  origin_US\n",
       "0   18.0  250.0     88   3139   14.5              0          1\n",
       "1    9.0  304.0    193   4732   18.5              0          1\n",
       "2   36.1   91.0     60   1800   16.4              0          0\n",
       "3   18.5  250.0     98   3525   19.0              0          1\n",
       "4   34.3   97.0     78   2188   15.8              1          0"
      ]
     },
     "execution_count": 76,
     "metadata": {},
     "output_type": "execute_result"
    }
   ],
   "source": [
    "'''\n",
    "    or you can use using pandas\n",
    "    drop first : True => drop one column since one hot encoder can be dropped 1 col since the value is always predictable\n",
    "'''\n",
    "\n",
    "X = get_dummies(X, columns=[\"origin\"], drop_first=True)\n",
    "X.head()"
   ]
  },
  {
   "cell_type": "code",
   "execution_count": 77,
   "metadata": {},
   "outputs": [
    {
     "data": {
      "text/plain": [
       "((308, 7), (308,), (77, 7), (77,))"
      ]
     },
     "execution_count": 77,
     "metadata": {},
     "output_type": "execute_result"
    }
   ],
   "source": [
    "X_train, X_test, y_train, y_test = train_test_split(X, y, test_size=0.2, random_state=42)\n",
    "\n",
    "X_train.shape, y_train.shape, X_test.shape, y_test.shape"
   ]
  },
  {
   "cell_type": "code",
   "execution_count": 78,
   "metadata": {},
   "outputs": [
    {
     "data": {
      "text/plain": [
       "{'RF__class_weight': 'balanced',\n",
       " 'RF__max_features': 0.1,\n",
       " 'RF__min_samples_leaf': 5,\n",
       " 'RF__n_estimators': 40}"
      ]
     },
     "execution_count": 78,
     "metadata": {},
     "output_type": "execute_result"
    }
   ],
   "source": [
    "pipeline = Pipeline([\n",
    "    (\"RF\", RandomForestClassifier())\n",
    "])\n",
    "#class weight based on the proportions of number of samples\n",
    "params = {\n",
    "    \"RF__n_estimators\" : [10, 20, 40, 60],\n",
    "    \"RF__max_features\" : [0.1, 0.5, 0.8],\n",
    "    \"RF__min_samples_leaf\" : [5, 10],\n",
    "    \"RF__class_weight\" : [\"balanced\"]\n",
    "}\n",
    "\n",
    "#scoring f1 weighted is for multiclass\n",
    "\n",
    "RF = GridSearchCV(pipeline,param_grid=params,cv=3, scoring=\"f1_weighted\")\n",
    "RF.fit(X_train,y_train)\n",
    "\n",
    "RF.best_params_"
   ]
  },
  {
   "cell_type": "code",
   "execution_count": 79,
   "metadata": {},
   "outputs": [
    {
     "name": "stderr",
     "output_type": "stream",
     "text": [
      "d:\\python-3.6.5\\lib\\site-packages\\sklearn\\model_selection\\_search.py:761: DeprecationWarning: The grid_scores_ attribute was deprecated in version 0.18 in favor of the more elaborate cv_results_ attribute. The grid_scores_ attribute will not be available from 0.20\n",
      "  DeprecationWarning)\n"
     ]
    },
    {
     "data": {
      "text/plain": [
       "[mean: 0.93570, std: 0.01692, params: {'RF__class_weight': 'balanced', 'RF__max_features': 0.1, 'RF__min_samples_leaf': 5, 'RF__n_estimators': 10},\n",
       " mean: 0.96112, std: 0.02899, params: {'RF__class_weight': 'balanced', 'RF__max_features': 0.1, 'RF__min_samples_leaf': 5, 'RF__n_estimators': 20},\n",
       " mean: 0.97719, std: 0.01239, params: {'RF__class_weight': 'balanced', 'RF__max_features': 0.1, 'RF__min_samples_leaf': 5, 'RF__n_estimators': 40},\n",
       " mean: 0.96771, std: 0.02553, params: {'RF__class_weight': 'balanced', 'RF__max_features': 0.1, 'RF__min_samples_leaf': 5, 'RF__n_estimators': 60},\n",
       " mean: 0.92991, std: 0.00904, params: {'RF__class_weight': 'balanced', 'RF__max_features': 0.1, 'RF__min_samples_leaf': 10, 'RF__n_estimators': 10},\n",
       " mean: 0.95527, std: 0.01560, params: {'RF__class_weight': 'balanced', 'RF__max_features': 0.1, 'RF__min_samples_leaf': 10, 'RF__n_estimators': 20},\n",
       " mean: 0.96451, std: 0.01829, params: {'RF__class_weight': 'balanced', 'RF__max_features': 0.1, 'RF__min_samples_leaf': 10, 'RF__n_estimators': 40},\n",
       " mean: 0.93615, std: 0.01902, params: {'RF__class_weight': 'balanced', 'RF__max_features': 0.1, 'RF__min_samples_leaf': 10, 'RF__n_estimators': 60},\n",
       " mean: 0.97092, std: 0.00780, params: {'RF__class_weight': 'balanced', 'RF__max_features': 0.5, 'RF__min_samples_leaf': 5, 'RF__n_estimators': 10},\n",
       " mean: 0.96805, std: 0.01142, params: {'RF__class_weight': 'balanced', 'RF__max_features': 0.5, 'RF__min_samples_leaf': 5, 'RF__n_estimators': 20},\n",
       " mean: 0.96775, std: 0.00442, params: {'RF__class_weight': 'balanced', 'RF__max_features': 0.5, 'RF__min_samples_leaf': 5, 'RF__n_estimators': 40},\n",
       " mean: 0.96449, std: 0.01625, params: {'RF__class_weight': 'balanced', 'RF__max_features': 0.5, 'RF__min_samples_leaf': 5, 'RF__n_estimators': 60},\n",
       " mean: 0.95012, std: 0.03868, params: {'RF__class_weight': 'balanced', 'RF__max_features': 0.5, 'RF__min_samples_leaf': 10, 'RF__n_estimators': 10},\n",
       " mean: 0.96489, std: 0.02257, params: {'RF__class_weight': 'balanced', 'RF__max_features': 0.5, 'RF__min_samples_leaf': 10, 'RF__n_estimators': 20},\n",
       " mean: 0.95828, std: 0.01154, params: {'RF__class_weight': 'balanced', 'RF__max_features': 0.5, 'RF__min_samples_leaf': 10, 'RF__n_estimators': 40},\n",
       " mean: 0.95262, std: 0.01965, params: {'RF__class_weight': 'balanced', 'RF__max_features': 0.5, 'RF__min_samples_leaf': 10, 'RF__n_estimators': 60},\n",
       " mean: 0.93335, std: 0.03544, params: {'RF__class_weight': 'balanced', 'RF__max_features': 1, 'RF__min_samples_leaf': 5, 'RF__n_estimators': 10},\n",
       " mean: 0.94924, std: 0.02354, params: {'RF__class_weight': 'balanced', 'RF__max_features': 1, 'RF__min_samples_leaf': 5, 'RF__n_estimators': 20},\n",
       " mean: 0.96783, std: 0.01809, params: {'RF__class_weight': 'balanced', 'RF__max_features': 1, 'RF__min_samples_leaf': 5, 'RF__n_estimators': 40},\n",
       " mean: 0.95827, std: 0.02760, params: {'RF__class_weight': 'balanced', 'RF__max_features': 1, 'RF__min_samples_leaf': 5, 'RF__n_estimators': 60},\n",
       " mean: 0.93543, std: 0.00370, params: {'RF__class_weight': 'balanced', 'RF__max_features': 1, 'RF__min_samples_leaf': 10, 'RF__n_estimators': 10},\n",
       " mean: 0.95794, std: 0.01640, params: {'RF__class_weight': 'balanced', 'RF__max_features': 1, 'RF__min_samples_leaf': 10, 'RF__n_estimators': 20},\n",
       " mean: 0.95893, std: 0.03076, params: {'RF__class_weight': 'balanced', 'RF__max_features': 1, 'RF__min_samples_leaf': 10, 'RF__n_estimators': 40},\n",
       " mean: 0.95847, std: 0.00444, params: {'RF__class_weight': 'balanced', 'RF__max_features': 1, 'RF__min_samples_leaf': 10, 'RF__n_estimators': 60}]"
      ]
     },
     "execution_count": 79,
     "metadata": {},
     "output_type": "execute_result"
    }
   ],
   "source": [
    "RF.grid_scores_"
   ]
  },
  {
   "cell_type": "code",
   "execution_count": 80,
   "metadata": {},
   "outputs": [
    {
     "data": {
      "text/plain": [
       "(0.9775521364072529, 0.9869846465591146)"
      ]
     },
     "execution_count": 80,
     "metadata": {},
     "output_type": "execute_result"
    }
   ],
   "source": [
    "RF.score(X_train, y_train), RF.score(X_test, y_test)"
   ]
  },
  {
   "cell_type": "code",
   "execution_count": 87,
   "metadata": {},
   "outputs": [
    {
     "data": {
      "text/plain": [
       "'             precision    recall  f1-score   support\\n\\n         10       0.99      0.99      0.99       165\\n         15       0.91      0.98      0.94        60\\n         20       1.00      0.95      0.98        83\\n\\navg / total       0.98      0.98      0.98       308\\n'"
      ]
     },
     "execution_count": 87,
     "metadata": {},
     "output_type": "execute_result"
    }
   ],
   "source": [
    "classification_report_train = classification_report(y_train, RF.predict(X_train))\n",
    "classification_report_train"
   ]
  },
  {
   "cell_type": "code",
   "execution_count": 88,
   "metadata": {},
   "outputs": [
    {
     "data": {
      "text/plain": [
       "'             precision    recall  f1-score   support\\n\\n         10       1.00      1.00      1.00        34\\n         15       0.96      1.00      0.98        23\\n         20       1.00      0.95      0.97        20\\n\\navg / total       0.99      0.99      0.99        77\\n'"
      ]
     },
     "execution_count": 88,
     "metadata": {},
     "output_type": "execute_result"
    }
   ],
   "source": [
    "classification_report_test = classification_report(y_test, RF.predict(X_test))\n",
    "classification_report_test"
   ]
  },
  {
   "cell_type": "code",
   "execution_count": 85,
   "metadata": {},
   "outputs": [
    {
     "data": {
      "text/plain": [
       "array([0.99088146, 0.944     , 0.97530864])"
      ]
     },
     "execution_count": 85,
     "metadata": {},
     "output_type": "execute_result"
    }
   ],
   "source": [
    "#for multiclass classification the average should be None\n",
    "f1_train = f1_score(y_train, RF.predict(X_train), average=None)\n",
    "f1_train"
   ]
  },
  {
   "cell_type": "code",
   "execution_count": 84,
   "metadata": {},
   "outputs": [
    {
     "data": {
      "text/plain": [
       "array([1.        , 0.9787234 , 0.97435897])"
      ]
     },
     "execution_count": 84,
     "metadata": {},
     "output_type": "execute_result"
    }
   ],
   "source": [
    "#for multiclass classification the average should be None\n",
    "f1_test = f1_score(y_test, RF.predict(X_test), average=None)\n",
    "f1_test"
   ]
  },
  {
   "cell_type": "code",
   "execution_count": 92,
   "metadata": {},
   "outputs": [
    {
     "data": {
      "text/plain": [
       "array([[163,   2,   0],\n",
       "       [  1,  59,   0],\n",
       "       [  0,   4,  79]], dtype=int64)"
      ]
     },
     "execution_count": 92,
     "metadata": {},
     "output_type": "execute_result"
    }
   ],
   "source": [
    "confusion_matrix_train = confusion_matrix(y_train, RF.predict(X_train), labels=[10,15,20])\n",
    "confusion_matrix_train"
   ]
  },
  {
   "cell_type": "code",
   "execution_count": 91,
   "metadata": {},
   "outputs": [
    {
     "data": {
      "text/plain": [
       "array([[34,  0,  0],\n",
       "       [ 0, 23,  0],\n",
       "       [ 0,  1, 19]], dtype=int64)"
      ]
     },
     "execution_count": 91,
     "metadata": {},
     "output_type": "execute_result"
    }
   ],
   "source": [
    "confusion_matrix_test = confusion_matrix(y_test, RF.predict(X_test), labels=[10,15,20])\n",
    "confusion_matrix_test"
   ]
  }
 ],
 "metadata": {
  "kernelspec": {
   "display_name": "Python 3",
   "language": "python",
   "name": "python3"
  },
  "language_info": {
   "codemirror_mode": {
    "name": "ipython",
    "version": 3
   },
   "file_extension": ".py",
   "mimetype": "text/x-python",
   "name": "python",
   "nbconvert_exporter": "python",
   "pygments_lexer": "ipython3",
   "version": "3.6.5"
  }
 },
 "nbformat": 4,
 "nbformat_minor": 2
}
