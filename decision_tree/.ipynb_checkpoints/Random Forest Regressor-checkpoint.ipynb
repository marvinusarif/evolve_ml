{
 "cells": [
  {
   "cell_type": "code",
   "execution_count": 277,
   "metadata": {},
   "outputs": [
    {
     "data": {
      "text/html": [
       "<div>\n",
       "<style scoped>\n",
       "    .dataframe tbody tr th:only-of-type {\n",
       "        vertical-align: middle;\n",
       "    }\n",
       "\n",
       "    .dataframe tbody tr th {\n",
       "        vertical-align: top;\n",
       "    }\n",
       "\n",
       "    .dataframe thead th {\n",
       "        text-align: right;\n",
       "    }\n",
       "</style>\n",
       "<table border=\"1\" class=\"dataframe\">\n",
       "  <thead>\n",
       "    <tr style=\"text-align: right;\">\n",
       "      <th></th>\n",
       "      <th>CRIM</th>\n",
       "      <th>ZN</th>\n",
       "      <th>INDUS</th>\n",
       "      <th>CHAS</th>\n",
       "      <th>NX</th>\n",
       "      <th>RM</th>\n",
       "      <th>AGE</th>\n",
       "      <th>DIS</th>\n",
       "      <th>RAD</th>\n",
       "      <th>TAX</th>\n",
       "      <th>PTRATIO</th>\n",
       "      <th>B</th>\n",
       "      <th>LSTAT</th>\n",
       "      <th>MEDV</th>\n",
       "    </tr>\n",
       "  </thead>\n",
       "  <tbody>\n",
       "    <tr>\n",
       "      <th>501</th>\n",
       "      <td>0.06263</td>\n",
       "      <td>0.0</td>\n",
       "      <td>11.93</td>\n",
       "      <td>0</td>\n",
       "      <td>0.573</td>\n",
       "      <td>6.593</td>\n",
       "      <td>69.1</td>\n",
       "      <td>2.4786</td>\n",
       "      <td>1</td>\n",
       "      <td>273.0</td>\n",
       "      <td>21.0</td>\n",
       "      <td>391.99</td>\n",
       "      <td>9.67</td>\n",
       "      <td>22.4</td>\n",
       "    </tr>\n",
       "    <tr>\n",
       "      <th>502</th>\n",
       "      <td>0.04527</td>\n",
       "      <td>0.0</td>\n",
       "      <td>11.93</td>\n",
       "      <td>0</td>\n",
       "      <td>0.573</td>\n",
       "      <td>6.120</td>\n",
       "      <td>76.7</td>\n",
       "      <td>2.2875</td>\n",
       "      <td>1</td>\n",
       "      <td>273.0</td>\n",
       "      <td>21.0</td>\n",
       "      <td>396.90</td>\n",
       "      <td>9.08</td>\n",
       "      <td>20.6</td>\n",
       "    </tr>\n",
       "    <tr>\n",
       "      <th>503</th>\n",
       "      <td>0.06076</td>\n",
       "      <td>0.0</td>\n",
       "      <td>11.93</td>\n",
       "      <td>0</td>\n",
       "      <td>0.573</td>\n",
       "      <td>6.976</td>\n",
       "      <td>91.0</td>\n",
       "      <td>2.1675</td>\n",
       "      <td>1</td>\n",
       "      <td>273.0</td>\n",
       "      <td>21.0</td>\n",
       "      <td>396.90</td>\n",
       "      <td>5.64</td>\n",
       "      <td>23.9</td>\n",
       "    </tr>\n",
       "    <tr>\n",
       "      <th>504</th>\n",
       "      <td>0.10959</td>\n",
       "      <td>0.0</td>\n",
       "      <td>11.93</td>\n",
       "      <td>0</td>\n",
       "      <td>0.573</td>\n",
       "      <td>6.794</td>\n",
       "      <td>89.3</td>\n",
       "      <td>2.3889</td>\n",
       "      <td>1</td>\n",
       "      <td>273.0</td>\n",
       "      <td>21.0</td>\n",
       "      <td>393.45</td>\n",
       "      <td>6.48</td>\n",
       "      <td>22.0</td>\n",
       "    </tr>\n",
       "    <tr>\n",
       "      <th>505</th>\n",
       "      <td>0.04741</td>\n",
       "      <td>0.0</td>\n",
       "      <td>11.93</td>\n",
       "      <td>0</td>\n",
       "      <td>0.573</td>\n",
       "      <td>6.030</td>\n",
       "      <td>80.8</td>\n",
       "      <td>2.5050</td>\n",
       "      <td>1</td>\n",
       "      <td>273.0</td>\n",
       "      <td>21.0</td>\n",
       "      <td>396.90</td>\n",
       "      <td>7.88</td>\n",
       "      <td>11.9</td>\n",
       "    </tr>\n",
       "  </tbody>\n",
       "</table>\n",
       "</div>"
      ],
      "text/plain": [
       "        CRIM   ZN  INDUS  CHAS     NX     RM   AGE     DIS  RAD    TAX  \\\n",
       "501  0.06263  0.0  11.93     0  0.573  6.593  69.1  2.4786    1  273.0   \n",
       "502  0.04527  0.0  11.93     0  0.573  6.120  76.7  2.2875    1  273.0   \n",
       "503  0.06076  0.0  11.93     0  0.573  6.976  91.0  2.1675    1  273.0   \n",
       "504  0.10959  0.0  11.93     0  0.573  6.794  89.3  2.3889    1  273.0   \n",
       "505  0.04741  0.0  11.93     0  0.573  6.030  80.8  2.5050    1  273.0   \n",
       "\n",
       "     PTRATIO       B  LSTAT  MEDV  \n",
       "501     21.0  391.99   9.67  22.4  \n",
       "502     21.0  396.90   9.08  20.6  \n",
       "503     21.0  396.90   5.64  23.9  \n",
       "504     21.0  393.45   6.48  22.0  \n",
       "505     21.0  396.90   7.88  11.9  "
      ]
     },
     "execution_count": 277,
     "metadata": {},
     "output_type": "execute_result"
    }
   ],
   "source": [
    "from pandas import read_csv\n",
    "from sklearn.model_selection import train_test_split, GridSearchCV\n",
    "from sklearn.ensemble import RandomForestRegressor\n",
    "from sklearn.preprocessing import StandardScaler, PolynomialFeatures\n",
    "from sklearn.pipeline import Pipeline\n",
    "\n",
    "df = read_csv(\"./data/boston.csv\")\n",
    "df.tail()"
   ]
  },
  {
   "cell_type": "code",
   "execution_count": 278,
   "metadata": {},
   "outputs": [],
   "source": [
    "X = df.drop(\"MEDV\",axis=1)\n",
    "y = df.MEDV"
   ]
  },
  {
   "cell_type": "code",
   "execution_count": 279,
   "metadata": {},
   "outputs": [],
   "source": [
    "X_train, X_test, y_train, y_test = train_test_split(X, y, test_size=0.2, random_state=42)"
   ]
  },
  {
   "cell_type": "code",
   "execution_count": 280,
   "metadata": {},
   "outputs": [
    {
     "data": {
      "text/plain": [
       "0.8359903513184561"
      ]
     },
     "execution_count": 280,
     "metadata": {},
     "output_type": "execute_result"
    }
   ],
   "source": [
    "steps = Pipeline([\n",
    "    (\"Poly\", PolynomialFeatures()),\n",
    "    (\"Scaler\", StandardScaler()),\n",
    "    (\"RF\", RandomForestRegressor())\n",
    "])\n",
    "\n",
    "#n_estimators is number of decision_tree that will be averaged to get the ensembled decision tree or random forest function\n",
    "#min_samples_leaf is the minimum number of sample in the leaf, higher num of samples will create more general model\n",
    "parameters = {\n",
    "    \"Poly__interaction_only\" : [True, False],\n",
    "    \"RF__n_estimators\" : [10, 20, 40, 60],\n",
    "    \"RF__max_features\" : [0.1, 0.5, 'sqrt'],\n",
    "    \"RF__min_samples_leaf\" : [1, 3] \n",
    "}\n",
    "\n",
    "RF = GridSearchCV(steps, param_grid=parameters, cv=3)\n",
    "RF.fit(X_train,y_train)\n",
    "RF.best_score_"
   ]
  },
  {
   "cell_type": "code",
   "execution_count": 281,
   "metadata": {},
   "outputs": [
    {
     "data": {
      "text/plain": [
       "{'RF__max_features': 'sqrt', 'RF__min_samples_leaf': 1, 'RF__n_estimators': 60}"
      ]
     },
     "execution_count": 281,
     "metadata": {},
     "output_type": "execute_result"
    }
   ],
   "source": [
    "RF.best_params_"
   ]
  },
  {
   "cell_type": "code",
   "execution_count": 282,
   "metadata": {},
   "outputs": [
    {
     "name": "stderr",
     "output_type": "stream",
     "text": [
      "d:\\python-3.6.5\\lib\\site-packages\\sklearn\\model_selection\\_search.py:761: DeprecationWarning: The grid_scores_ attribute was deprecated in version 0.18 in favor of the more elaborate cv_results_ attribute. The grid_scores_ attribute will not be available from 0.20\n",
      "  DeprecationWarning)\n"
     ]
    },
    {
     "data": {
      "text/plain": [
       "[mean: 0.81116, std: 0.00847, params: {'RF__max_features': 0.1, 'RF__min_samples_leaf': 1, 'RF__n_estimators': 10},\n",
       " mean: 0.82824, std: 0.04715, params: {'RF__max_features': 0.1, 'RF__min_samples_leaf': 1, 'RF__n_estimators': 20},\n",
       " mean: 0.82672, std: 0.03035, params: {'RF__max_features': 0.1, 'RF__min_samples_leaf': 1, 'RF__n_estimators': 40},\n",
       " mean: 0.82685, std: 0.02216, params: {'RF__max_features': 0.1, 'RF__min_samples_leaf': 1, 'RF__n_estimators': 60},\n",
       " mean: 0.78667, std: 0.02499, params: {'RF__max_features': 0.1, 'RF__min_samples_leaf': 3, 'RF__n_estimators': 10},\n",
       " mean: 0.81441, std: 0.04866, params: {'RF__max_features': 0.1, 'RF__min_samples_leaf': 3, 'RF__n_estimators': 20},\n",
       " mean: 0.80703, std: 0.02906, params: {'RF__max_features': 0.1, 'RF__min_samples_leaf': 3, 'RF__n_estimators': 40},\n",
       " mean: 0.82034, std: 0.01817, params: {'RF__max_features': 0.1, 'RF__min_samples_leaf': 3, 'RF__n_estimators': 60},\n",
       " mean: 0.78927, std: 0.01051, params: {'RF__max_features': 0.5, 'RF__min_samples_leaf': 1, 'RF__n_estimators': 10},\n",
       " mean: 0.82382, std: 0.00403, params: {'RF__max_features': 0.5, 'RF__min_samples_leaf': 1, 'RF__n_estimators': 20},\n",
       " mean: 0.81523, std: 0.01551, params: {'RF__max_features': 0.5, 'RF__min_samples_leaf': 1, 'RF__n_estimators': 40},\n",
       " mean: 0.82915, std: 0.01916, params: {'RF__max_features': 0.5, 'RF__min_samples_leaf': 1, 'RF__n_estimators': 60},\n",
       " mean: 0.79067, std: 0.00686, params: {'RF__max_features': 0.5, 'RF__min_samples_leaf': 3, 'RF__n_estimators': 10},\n",
       " mean: 0.79201, std: 0.02343, params: {'RF__max_features': 0.5, 'RF__min_samples_leaf': 3, 'RF__n_estimators': 20},\n",
       " mean: 0.80428, std: 0.02190, params: {'RF__max_features': 0.5, 'RF__min_samples_leaf': 3, 'RF__n_estimators': 40},\n",
       " mean: 0.81131, std: 0.01248, params: {'RF__max_features': 0.5, 'RF__min_samples_leaf': 3, 'RF__n_estimators': 60},\n",
       " mean: 0.80137, std: 0.05164, params: {'RF__max_features': 'sqrt', 'RF__min_samples_leaf': 1, 'RF__n_estimators': 10},\n",
       " mean: 0.81910, std: 0.03178, params: {'RF__max_features': 'sqrt', 'RF__min_samples_leaf': 1, 'RF__n_estimators': 20},\n",
       " mean: 0.83043, std: 0.02404, params: {'RF__max_features': 'sqrt', 'RF__min_samples_leaf': 1, 'RF__n_estimators': 40},\n",
       " mean: 0.83599, std: 0.02441, params: {'RF__max_features': 'sqrt', 'RF__min_samples_leaf': 1, 'RF__n_estimators': 60},\n",
       " mean: 0.78241, std: 0.02731, params: {'RF__max_features': 'sqrt', 'RF__min_samples_leaf': 3, 'RF__n_estimators': 10},\n",
       " mean: 0.81494, std: 0.02248, params: {'RF__max_features': 'sqrt', 'RF__min_samples_leaf': 3, 'RF__n_estimators': 20},\n",
       " mean: 0.81534, std: 0.02591, params: {'RF__max_features': 'sqrt', 'RF__min_samples_leaf': 3, 'RF__n_estimators': 40},\n",
       " mean: 0.81390, std: 0.02424, params: {'RF__max_features': 'sqrt', 'RF__min_samples_leaf': 3, 'RF__n_estimators': 60}]"
      ]
     },
     "execution_count": 282,
     "metadata": {},
     "output_type": "execute_result"
    }
   ],
   "source": [
    "RF.grid_scores_"
   ]
  },
  {
   "cell_type": "code",
   "execution_count": 283,
   "metadata": {},
   "outputs": [
    {
     "data": {
      "text/plain": [
       "(0.9812759333343472, 0.8573037028398223)"
      ]
     },
     "execution_count": 283,
     "metadata": {},
     "output_type": "execute_result"
    }
   ],
   "source": [
    "RF.score(X_train, y_train), RF.score(X_test, y_test)"
   ]
  },
  {
   "cell_type": "code",
   "execution_count": 284,
   "metadata": {},
   "outputs": [
    {
     "data": {
      "text/plain": [
       "3.234881653743376"
      ]
     },
     "execution_count": 284,
     "metadata": {},
     "output_type": "execute_result"
    }
   ],
   "source": [
    "import numpy as np\n",
    "RMSE = np.sqrt(np.mean((y_test-RF.predict(X_test))**2))\n",
    "RMSE"
   ]
  },
  {
   "cell_type": "code",
   "execution_count": null,
   "metadata": {},
   "outputs": [],
   "source": []
  }
 ],
 "metadata": {
  "kernelspec": {
   "display_name": "Python 3",
   "language": "python",
   "name": "python3"
  },
  "language_info": {
   "codemirror_mode": {
    "name": "ipython",
    "version": 3
   },
   "file_extension": ".py",
   "mimetype": "text/x-python",
   "name": "python",
   "nbconvert_exporter": "python",
   "pygments_lexer": "ipython3",
   "version": "3.6.5"
  }
 },
 "nbformat": 4,
 "nbformat_minor": 2
}
