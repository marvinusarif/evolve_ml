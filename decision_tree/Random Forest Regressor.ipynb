{
 "cells": [
  {
   "cell_type": "code",
   "execution_count": 285,
   "metadata": {},
   "outputs": [
    {
     "data": {
      "text/html": [
       "<div>\n",
       "<style scoped>\n",
       "    .dataframe tbody tr th:only-of-type {\n",
       "        vertical-align: middle;\n",
       "    }\n",
       "\n",
       "    .dataframe tbody tr th {\n",
       "        vertical-align: top;\n",
       "    }\n",
       "\n",
       "    .dataframe thead th {\n",
       "        text-align: right;\n",
       "    }\n",
       "</style>\n",
       "<table border=\"1\" class=\"dataframe\">\n",
       "  <thead>\n",
       "    <tr style=\"text-align: right;\">\n",
       "      <th></th>\n",
       "      <th>CRIM</th>\n",
       "      <th>ZN</th>\n",
       "      <th>INDUS</th>\n",
       "      <th>CHAS</th>\n",
       "      <th>NX</th>\n",
       "      <th>RM</th>\n",
       "      <th>AGE</th>\n",
       "      <th>DIS</th>\n",
       "      <th>RAD</th>\n",
       "      <th>TAX</th>\n",
       "      <th>PTRATIO</th>\n",
       "      <th>B</th>\n",
       "      <th>LSTAT</th>\n",
       "      <th>MEDV</th>\n",
       "    </tr>\n",
       "  </thead>\n",
       "  <tbody>\n",
       "    <tr>\n",
       "      <th>501</th>\n",
       "      <td>0.06263</td>\n",
       "      <td>0.0</td>\n",
       "      <td>11.93</td>\n",
       "      <td>0</td>\n",
       "      <td>0.573</td>\n",
       "      <td>6.593</td>\n",
       "      <td>69.1</td>\n",
       "      <td>2.4786</td>\n",
       "      <td>1</td>\n",
       "      <td>273.0</td>\n",
       "      <td>21.0</td>\n",
       "      <td>391.99</td>\n",
       "      <td>9.67</td>\n",
       "      <td>22.4</td>\n",
       "    </tr>\n",
       "    <tr>\n",
       "      <th>502</th>\n",
       "      <td>0.04527</td>\n",
       "      <td>0.0</td>\n",
       "      <td>11.93</td>\n",
       "      <td>0</td>\n",
       "      <td>0.573</td>\n",
       "      <td>6.120</td>\n",
       "      <td>76.7</td>\n",
       "      <td>2.2875</td>\n",
       "      <td>1</td>\n",
       "      <td>273.0</td>\n",
       "      <td>21.0</td>\n",
       "      <td>396.90</td>\n",
       "      <td>9.08</td>\n",
       "      <td>20.6</td>\n",
       "    </tr>\n",
       "    <tr>\n",
       "      <th>503</th>\n",
       "      <td>0.06076</td>\n",
       "      <td>0.0</td>\n",
       "      <td>11.93</td>\n",
       "      <td>0</td>\n",
       "      <td>0.573</td>\n",
       "      <td>6.976</td>\n",
       "      <td>91.0</td>\n",
       "      <td>2.1675</td>\n",
       "      <td>1</td>\n",
       "      <td>273.0</td>\n",
       "      <td>21.0</td>\n",
       "      <td>396.90</td>\n",
       "      <td>5.64</td>\n",
       "      <td>23.9</td>\n",
       "    </tr>\n",
       "    <tr>\n",
       "      <th>504</th>\n",
       "      <td>0.10959</td>\n",
       "      <td>0.0</td>\n",
       "      <td>11.93</td>\n",
       "      <td>0</td>\n",
       "      <td>0.573</td>\n",
       "      <td>6.794</td>\n",
       "      <td>89.3</td>\n",
       "      <td>2.3889</td>\n",
       "      <td>1</td>\n",
       "      <td>273.0</td>\n",
       "      <td>21.0</td>\n",
       "      <td>393.45</td>\n",
       "      <td>6.48</td>\n",
       "      <td>22.0</td>\n",
       "    </tr>\n",
       "    <tr>\n",
       "      <th>505</th>\n",
       "      <td>0.04741</td>\n",
       "      <td>0.0</td>\n",
       "      <td>11.93</td>\n",
       "      <td>0</td>\n",
       "      <td>0.573</td>\n",
       "      <td>6.030</td>\n",
       "      <td>80.8</td>\n",
       "      <td>2.5050</td>\n",
       "      <td>1</td>\n",
       "      <td>273.0</td>\n",
       "      <td>21.0</td>\n",
       "      <td>396.90</td>\n",
       "      <td>7.88</td>\n",
       "      <td>11.9</td>\n",
       "    </tr>\n",
       "  </tbody>\n",
       "</table>\n",
       "</div>"
      ],
      "text/plain": [
       "        CRIM   ZN  INDUS  CHAS     NX     RM   AGE     DIS  RAD    TAX  \\\n",
       "501  0.06263  0.0  11.93     0  0.573  6.593  69.1  2.4786    1  273.0   \n",
       "502  0.04527  0.0  11.93     0  0.573  6.120  76.7  2.2875    1  273.0   \n",
       "503  0.06076  0.0  11.93     0  0.573  6.976  91.0  2.1675    1  273.0   \n",
       "504  0.10959  0.0  11.93     0  0.573  6.794  89.3  2.3889    1  273.0   \n",
       "505  0.04741  0.0  11.93     0  0.573  6.030  80.8  2.5050    1  273.0   \n",
       "\n",
       "     PTRATIO       B  LSTAT  MEDV  \n",
       "501     21.0  391.99   9.67  22.4  \n",
       "502     21.0  396.90   9.08  20.6  \n",
       "503     21.0  396.90   5.64  23.9  \n",
       "504     21.0  393.45   6.48  22.0  \n",
       "505     21.0  396.90   7.88  11.9  "
      ]
     },
     "execution_count": 285,
     "metadata": {},
     "output_type": "execute_result"
    }
   ],
   "source": [
    "from pandas import read_csv\n",
    "from sklearn.model_selection import train_test_split, GridSearchCV\n",
    "from sklearn.ensemble import RandomForestRegressor\n",
    "from sklearn.preprocessing import StandardScaler, PolynomialFeatures\n",
    "from sklearn.pipeline import Pipeline\n",
    "\n",
    "df = read_csv(\"./data/boston.csv\")\n",
    "df.tail()"
   ]
  },
  {
   "cell_type": "code",
   "execution_count": 286,
   "metadata": {},
   "outputs": [],
   "source": [
    "X = df.drop(\"MEDV\",axis=1)\n",
    "y = df.MEDV"
   ]
  },
  {
   "cell_type": "code",
   "execution_count": 287,
   "metadata": {},
   "outputs": [],
   "source": [
    "X_train, X_test, y_train, y_test = train_test_split(X, y, test_size=0.2, random_state=42)"
   ]
  },
  {
   "cell_type": "code",
   "execution_count": 288,
   "metadata": {},
   "outputs": [
    {
     "data": {
      "text/plain": [
       "0.8364243219938771"
      ]
     },
     "execution_count": 288,
     "metadata": {},
     "output_type": "execute_result"
    }
   ],
   "source": [
    "steps = Pipeline([\n",
    "    (\"Poly\", PolynomialFeatures()),\n",
    "    (\"Scaler\", StandardScaler()),\n",
    "    (\"RF\", RandomForestRegressor())\n",
    "])\n",
    "\n",
    "#n_estimators is number of decision_tree that will be averaged to get the ensembled decision tree or random forest function\n",
    "#min_samples_leaf is the minimum number of sample in the leaf, higher num of samples will create more general model\n",
    "parameters = {\n",
    "    \"Poly__interaction_only\" : [True, False],\n",
    "    \"RF__n_estimators\" : [10, 20, 40, 60],\n",
    "    \"RF__max_features\" : [0.1, 0.5, 'sqrt'],\n",
    "    \"RF__min_samples_leaf\" : [1, 3] \n",
    "}\n",
    "\n",
    "RF = GridSearchCV(steps, param_grid=parameters, cv=3)\n",
    "RF.fit(X_train,y_train)\n",
    "RF.best_score_"
   ]
  },
  {
   "cell_type": "code",
   "execution_count": 289,
   "metadata": {},
   "outputs": [
    {
     "data": {
      "text/plain": [
       "{'Poly__interaction_only': True,\n",
       " 'RF__max_features': 'sqrt',\n",
       " 'RF__min_samples_leaf': 1,\n",
       " 'RF__n_estimators': 20}"
      ]
     },
     "execution_count": 289,
     "metadata": {},
     "output_type": "execute_result"
    }
   ],
   "source": [
    "RF.best_params_"
   ]
  },
  {
   "cell_type": "code",
   "execution_count": 290,
   "metadata": {},
   "outputs": [
    {
     "name": "stderr",
     "output_type": "stream",
     "text": [
      "d:\\python-3.6.5\\lib\\site-packages\\sklearn\\model_selection\\_search.py:761: DeprecationWarning: The grid_scores_ attribute was deprecated in version 0.18 in favor of the more elaborate cv_results_ attribute. The grid_scores_ attribute will not be available from 0.20\n",
      "  DeprecationWarning)\n"
     ]
    },
    {
     "data": {
      "text/plain": [
       "[mean: 0.82056, std: 0.03071, params: {'Poly__interaction_only': True, 'RF__max_features': 0.1, 'RF__min_samples_leaf': 1, 'RF__n_estimators': 10},\n",
       " mean: 0.79863, std: 0.02808, params: {'Poly__interaction_only': True, 'RF__max_features': 0.1, 'RF__min_samples_leaf': 1, 'RF__n_estimators': 20},\n",
       " mean: 0.81638, std: 0.02098, params: {'Poly__interaction_only': True, 'RF__max_features': 0.1, 'RF__min_samples_leaf': 1, 'RF__n_estimators': 40},\n",
       " mean: 0.82669, std: 0.02035, params: {'Poly__interaction_only': True, 'RF__max_features': 0.1, 'RF__min_samples_leaf': 1, 'RF__n_estimators': 60},\n",
       " mean: 0.79379, std: 0.06335, params: {'Poly__interaction_only': True, 'RF__max_features': 0.1, 'RF__min_samples_leaf': 3, 'RF__n_estimators': 10},\n",
       " mean: 0.80512, std: 0.01834, params: {'Poly__interaction_only': True, 'RF__max_features': 0.1, 'RF__min_samples_leaf': 3, 'RF__n_estimators': 20},\n",
       " mean: 0.80652, std: 0.03379, params: {'Poly__interaction_only': True, 'RF__max_features': 0.1, 'RF__min_samples_leaf': 3, 'RF__n_estimators': 40},\n",
       " mean: 0.81146, std: 0.03108, params: {'Poly__interaction_only': True, 'RF__max_features': 0.1, 'RF__min_samples_leaf': 3, 'RF__n_estimators': 60},\n",
       " mean: 0.78649, std: 0.03214, params: {'Poly__interaction_only': True, 'RF__max_features': 0.5, 'RF__min_samples_leaf': 1, 'RF__n_estimators': 10},\n",
       " mean: 0.81765, std: 0.01790, params: {'Poly__interaction_only': True, 'RF__max_features': 0.5, 'RF__min_samples_leaf': 1, 'RF__n_estimators': 20},\n",
       " mean: 0.82577, std: 0.02278, params: {'Poly__interaction_only': True, 'RF__max_features': 0.5, 'RF__min_samples_leaf': 1, 'RF__n_estimators': 40},\n",
       " mean: 0.82144, std: 0.00610, params: {'Poly__interaction_only': True, 'RF__max_features': 0.5, 'RF__min_samples_leaf': 1, 'RF__n_estimators': 60},\n",
       " mean: 0.79452, std: 0.03408, params: {'Poly__interaction_only': True, 'RF__max_features': 0.5, 'RF__min_samples_leaf': 3, 'RF__n_estimators': 10},\n",
       " mean: 0.81569, std: 0.01712, params: {'Poly__interaction_only': True, 'RF__max_features': 0.5, 'RF__min_samples_leaf': 3, 'RF__n_estimators': 20},\n",
       " mean: 0.80872, std: 0.01630, params: {'Poly__interaction_only': True, 'RF__max_features': 0.5, 'RF__min_samples_leaf': 3, 'RF__n_estimators': 40},\n",
       " mean: 0.81557, std: 0.01844, params: {'Poly__interaction_only': True, 'RF__max_features': 0.5, 'RF__min_samples_leaf': 3, 'RF__n_estimators': 60},\n",
       " mean: 0.79100, std: 0.01643, params: {'Poly__interaction_only': True, 'RF__max_features': 'sqrt', 'RF__min_samples_leaf': 1, 'RF__n_estimators': 10},\n",
       " mean: 0.83642, std: 0.02846, params: {'Poly__interaction_only': True, 'RF__max_features': 'sqrt', 'RF__min_samples_leaf': 1, 'RF__n_estimators': 20},\n",
       " mean: 0.82525, std: 0.02020, params: {'Poly__interaction_only': True, 'RF__max_features': 'sqrt', 'RF__min_samples_leaf': 1, 'RF__n_estimators': 40},\n",
       " mean: 0.82877, std: 0.03103, params: {'Poly__interaction_only': True, 'RF__max_features': 'sqrt', 'RF__min_samples_leaf': 1, 'RF__n_estimators': 60},\n",
       " mean: 0.80527, std: 0.02619, params: {'Poly__interaction_only': True, 'RF__max_features': 'sqrt', 'RF__min_samples_leaf': 3, 'RF__n_estimators': 10},\n",
       " mean: 0.80198, std: 0.03217, params: {'Poly__interaction_only': True, 'RF__max_features': 'sqrt', 'RF__min_samples_leaf': 3, 'RF__n_estimators': 20},\n",
       " mean: 0.79855, std: 0.02657, params: {'Poly__interaction_only': True, 'RF__max_features': 'sqrt', 'RF__min_samples_leaf': 3, 'RF__n_estimators': 40},\n",
       " mean: 0.81071, std: 0.02340, params: {'Poly__interaction_only': True, 'RF__max_features': 'sqrt', 'RF__min_samples_leaf': 3, 'RF__n_estimators': 60},\n",
       " mean: 0.82300, std: 0.04325, params: {'Poly__interaction_only': False, 'RF__max_features': 0.1, 'RF__min_samples_leaf': 1, 'RF__n_estimators': 10},\n",
       " mean: 0.81047, std: 0.03437, params: {'Poly__interaction_only': False, 'RF__max_features': 0.1, 'RF__min_samples_leaf': 1, 'RF__n_estimators': 20},\n",
       " mean: 0.82886, std: 0.01973, params: {'Poly__interaction_only': False, 'RF__max_features': 0.1, 'RF__min_samples_leaf': 1, 'RF__n_estimators': 40},\n",
       " mean: 0.83157, std: 0.02020, params: {'Poly__interaction_only': False, 'RF__max_features': 0.1, 'RF__min_samples_leaf': 1, 'RF__n_estimators': 60},\n",
       " mean: 0.77173, std: 0.03792, params: {'Poly__interaction_only': False, 'RF__max_features': 0.1, 'RF__min_samples_leaf': 3, 'RF__n_estimators': 10},\n",
       " mean: 0.80407, std: 0.03193, params: {'Poly__interaction_only': False, 'RF__max_features': 0.1, 'RF__min_samples_leaf': 3, 'RF__n_estimators': 20},\n",
       " mean: 0.81609, std: 0.01377, params: {'Poly__interaction_only': False, 'RF__max_features': 0.1, 'RF__min_samples_leaf': 3, 'RF__n_estimators': 40},\n",
       " mean: 0.81846, std: 0.02986, params: {'Poly__interaction_only': False, 'RF__max_features': 0.1, 'RF__min_samples_leaf': 3, 'RF__n_estimators': 60},\n",
       " mean: 0.79511, std: 0.02084, params: {'Poly__interaction_only': False, 'RF__max_features': 0.5, 'RF__min_samples_leaf': 1, 'RF__n_estimators': 10},\n",
       " mean: 0.81630, std: 0.01790, params: {'Poly__interaction_only': False, 'RF__max_features': 0.5, 'RF__min_samples_leaf': 1, 'RF__n_estimators': 20},\n",
       " mean: 0.81342, std: 0.00279, params: {'Poly__interaction_only': False, 'RF__max_features': 0.5, 'RF__min_samples_leaf': 1, 'RF__n_estimators': 40},\n",
       " mean: 0.81631, std: 0.02391, params: {'Poly__interaction_only': False, 'RF__max_features': 0.5, 'RF__min_samples_leaf': 1, 'RF__n_estimators': 60},\n",
       " mean: 0.78399, std: 0.02923, params: {'Poly__interaction_only': False, 'RF__max_features': 0.5, 'RF__min_samples_leaf': 3, 'RF__n_estimators': 10},\n",
       " mean: 0.79217, std: 0.00553, params: {'Poly__interaction_only': False, 'RF__max_features': 0.5, 'RF__min_samples_leaf': 3, 'RF__n_estimators': 20},\n",
       " mean: 0.81694, std: 0.01689, params: {'Poly__interaction_only': False, 'RF__max_features': 0.5, 'RF__min_samples_leaf': 3, 'RF__n_estimators': 40},\n",
       " mean: 0.81504, std: 0.01248, params: {'Poly__interaction_only': False, 'RF__max_features': 0.5, 'RF__min_samples_leaf': 3, 'RF__n_estimators': 60},\n",
       " mean: 0.79658, std: 0.03313, params: {'Poly__interaction_only': False, 'RF__max_features': 'sqrt', 'RF__min_samples_leaf': 1, 'RF__n_estimators': 10},\n",
       " mean: 0.79760, std: 0.02787, params: {'Poly__interaction_only': False, 'RF__max_features': 'sqrt', 'RF__min_samples_leaf': 1, 'RF__n_estimators': 20},\n",
       " mean: 0.82197, std: 0.00870, params: {'Poly__interaction_only': False, 'RF__max_features': 'sqrt', 'RF__min_samples_leaf': 1, 'RF__n_estimators': 40},\n",
       " mean: 0.82538, std: 0.02716, params: {'Poly__interaction_only': False, 'RF__max_features': 'sqrt', 'RF__min_samples_leaf': 1, 'RF__n_estimators': 60},\n",
       " mean: 0.79866, std: 0.03581, params: {'Poly__interaction_only': False, 'RF__max_features': 'sqrt', 'RF__min_samples_leaf': 3, 'RF__n_estimators': 10},\n",
       " mean: 0.80236, std: 0.04369, params: {'Poly__interaction_only': False, 'RF__max_features': 'sqrt', 'RF__min_samples_leaf': 3, 'RF__n_estimators': 20},\n",
       " mean: 0.81505, std: 0.01895, params: {'Poly__interaction_only': False, 'RF__max_features': 'sqrt', 'RF__min_samples_leaf': 3, 'RF__n_estimators': 40},\n",
       " mean: 0.81342, std: 0.02447, params: {'Poly__interaction_only': False, 'RF__max_features': 'sqrt', 'RF__min_samples_leaf': 3, 'RF__n_estimators': 60}]"
      ]
     },
     "execution_count": 290,
     "metadata": {},
     "output_type": "execute_result"
    }
   ],
   "source": [
    "RF.grid_scores_"
   ]
  },
  {
   "cell_type": "code",
   "execution_count": 291,
   "metadata": {},
   "outputs": [
    {
     "data": {
      "text/plain": [
       "(0.9740373953408598, 0.8372710850782765)"
      ]
     },
     "execution_count": 291,
     "metadata": {},
     "output_type": "execute_result"
    }
   ],
   "source": [
    "RF.score(X_train, y_train), RF.score(X_test, y_test)"
   ]
  },
  {
   "cell_type": "code",
   "execution_count": 292,
   "metadata": {},
   "outputs": [
    {
     "data": {
      "text/plain": [
       "3.4544937343675"
      ]
     },
     "execution_count": 292,
     "metadata": {},
     "output_type": "execute_result"
    }
   ],
   "source": [
    "import numpy as np\n",
    "RMSE = np.sqrt(np.mean((y_test-RF.predict(X_test))**2))\n",
    "RMSE"
   ]
  },
  {
   "cell_type": "code",
   "execution_count": null,
   "metadata": {},
   "outputs": [],
   "source": []
  }
 ],
 "metadata": {
  "kernelspec": {
   "display_name": "Python 3",
   "language": "python",
   "name": "python3"
  },
  "language_info": {
   "codemirror_mode": {
    "name": "ipython",
    "version": 3
   },
   "file_extension": ".py",
   "mimetype": "text/x-python",
   "name": "python",
   "nbconvert_exporter": "python",
   "pygments_lexer": "ipython3",
   "version": "3.6.5"
  }
 },
 "nbformat": 4,
 "nbformat_minor": 2
}
