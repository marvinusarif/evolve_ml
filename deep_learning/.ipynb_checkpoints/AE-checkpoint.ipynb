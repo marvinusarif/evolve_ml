{
 "cells": [
  {
   "cell_type": "code",
   "execution_count": 26,
   "metadata": {},
   "outputs": [
    {
     "name": "stdout",
     "output_type": "stream",
     "text": [
      "\n"
     ]
    }
   ],
   "source": [
    "from keras.models import Sequential\n",
    "from keras.layers import Dense\n",
    "import numpy as np\n",
    "\n",
    "from minist_dataset import generate_training_test,\\\n",
    "    split_into_x_and_y_minist, subsample\n",
    "\n",
    "print('')"
   ]
  },
  {
   "cell_type": "code",
   "execution_count": 27,
   "metadata": {},
   "outputs": [
    {
     "name": "stdout",
     "output_type": "stream",
     "text": [
      "len digits 60000\n",
      "size original training data 48000\n",
      "size subsample training 2400\n",
      "training shape : (2400, 784)\n"
     ]
    }
   ],
   "source": [
    "split = 0.8\n",
    "training, testing=generate_training_test(split)\n",
    "print('size original training data', len(training))\n",
    "\n",
    "training=subsample(training, 0.05)\n",
    "print('size subsample training', len(training))\n",
    "\n",
    "x_train, y_train = split_into_x_and_y_minist(training)\n",
    "\n",
    "x_train = np.array(x_train)/255.0\n",
    "\n",
    "print('training shape :', x_train.shape)\n",
    "\n",
    "model_autoencoder=Sequential()\n"
   ]
  },
  {
   "cell_type": "code",
   "execution_count": 30,
   "metadata": {},
   "outputs": [],
   "source": [
    "#create layer\n",
    "hiddenlayer=Dense(400, input_dim=784, activation=\"relu\")\n",
    "model_autoencoder.add(hiddenlayer)\n",
    "\n",
    "outputlayer=Dense(784, input_dim=400, activation=\"linear\")\n",
    "model_autoencoder.add(outputlayer)\n",
    "\n",
    "#mae stands for mean absolute error\n",
    "model_autoencoder.compile(loss='mean_squared_error', optimizer=\"adam\", metrics=['accuracy'])\n"
   ]
  },
  {
   "cell_type": "code",
   "execution_count": 31,
   "metadata": {},
   "outputs": [
    {
     "name": "stdout",
     "output_type": "stream",
     "text": [
      "Epoch 1/10\n",
      "2400/2400 [==============================] - 2s 761us/step - loss: 0.0567 - mean_absolute_error: 0.1543\n",
      "Epoch 2/10\n",
      "2400/2400 [==============================] - 1s 306us/step - loss: 0.0286 - mean_absolute_error: 0.1081\n",
      "Epoch 3/10\n",
      "2400/2400 [==============================] - 1s 304us/step - loss: 0.0204 - mean_absolute_error: 0.0912\n",
      "Epoch 4/10\n",
      "2400/2400 [==============================] - 1s 301us/step - loss: 0.0165 - mean_absolute_error: 0.0814\n",
      "Epoch 5/10\n",
      "2400/2400 [==============================] - 1s 306us/step - loss: 0.0143 - mean_absolute_error: 0.0756\n",
      "Epoch 6/10\n",
      "2400/2400 [==============================] - 1s 307us/step - loss: 0.0128 - mean_absolute_error: 0.0713\n",
      "Epoch 7/10\n",
      "2400/2400 [==============================] - 1s 398us/step - loss: 0.0117 - mean_absolute_error: 0.0678\n",
      "Epoch 8/10\n",
      "2400/2400 [==============================] - 1s 244us/step - loss: 0.0111 - mean_absolute_error: 0.0659\n",
      "Epoch 9/10\n",
      "2400/2400 [==============================] - 1s 230us/step - loss: 0.0106 - mean_absolute_error: 0.0643\n",
      "Epoch 10/10\n",
      "2400/2400 [==============================] - 1s 231us/step - loss: 0.0100 - mean_absolute_error: 0.0622\n",
      "2400/2400 [==============================] - 0s 137us/step\n",
      "scores : [0.009584805046518643, 0.060618039319912595]\n"
     ]
    }
   ],
   "source": [
    "#start training\n",
    "model_autoencoder.fit(x_train, x_train, epochs=10)\n",
    "\n",
    "x_train_original = x_train\n",
    "#evaluate model\n",
    "scores=model_autoencoder.evaluate(x_train, x_train_original)\n",
    "\n",
    "\n",
    "print(\"scores :\", scores)"
   ]
  },
  {
   "cell_type": "code",
   "execution_count": null,
   "metadata": {},
   "outputs": [],
   "source": []
  }
 ],
 "metadata": {
  "kernelspec": {
   "display_name": "Python 3",
   "language": "python",
   "name": "python3"
  },
  "language_info": {
   "codemirror_mode": {
    "name": "ipython",
    "version": 3
   },
   "file_extension": ".py",
   "mimetype": "text/x-python",
   "name": "python",
   "nbconvert_exporter": "python",
   "pygments_lexer": "ipython3",
   "version": "3.5.3"
  }
 },
 "nbformat": 4,
 "nbformat_minor": 2
}
