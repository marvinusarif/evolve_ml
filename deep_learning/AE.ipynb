{
 "cells": [
  {
   "cell_type": "code",
   "execution_count": 2,
   "metadata": {},
   "outputs": [
    {
     "name": "stdout",
     "output_type": "stream",
     "text": [
      "\n"
     ]
    }
   ],
   "source": [
    "from keras.models import Sequential\n",
    "\n",
    "from keras.layers import Dense\n",
    "import numpy as np\n",
    "\n",
    "from minist_dataset import generate_training_test,\\\n",
    "    split_into_x_and_y_minist, subsample\n",
    "\n",
    "print('')"
   ]
  },
  {
   "cell_type": "code",
   "execution_count": 3,
   "metadata": {},
   "outputs": [
    {
     "name": "stdout",
     "output_type": "stream",
     "text": [
      "len digits 60000\n",
      "size original training data 48000\n",
      "size subsample training 2400\n",
      "training shape : (2400, 784)\n"
     ]
    }
   ],
   "source": [
    "split = 0.8\n",
    "training, testing=generate_training_test(split)\n",
    "print('size original training data', len(training))\n",
    "\n",
    "training=subsample(training, 0.05)\n",
    "print('size subsample training', len(training))\n",
    "\n",
    "x_train, y_train = split_into_x_and_y_minist(training)\n",
    "\n",
    "x_train = np.array(x_train)/255.0\n",
    "\n",
    "print('training shape :', x_train.shape)\n",
    "\n",
    "model_autoencoder=Sequential()\n"
   ]
  },
  {
   "cell_type": "code",
   "execution_count": 4,
   "metadata": {},
   "outputs": [],
   "source": [
    "#create layer\n",
    "hiddenlayer=Dense(400, input_dim=784, activation=\"relu\")\n",
    "model_autoencoder.add(hiddenlayer)\n",
    "\n",
    "outputlayer=Dense(784, input_dim=400, activation=\"linear\")\n",
    "model_autoencoder.add(outputlayer)\n",
    "\n",
    "#mae stands for mean absolute error\n",
    "model_autoencoder.compile(loss='mean_squared_error', optimizer=\"adam\", metrics=['accuracy'])\n"
   ]
  },
  {
   "cell_type": "code",
   "execution_count": null,
   "metadata": {},
   "outputs": [
    {
     "name": "stdout",
     "output_type": "stream",
     "text": [
      "Epoch 1/10\n",
      "2400/2400 [==============================] - 0s 123us/step - loss: 0.0049 - acc: 0.0158\n",
      "Epoch 2/10\n",
      "  32/2400 [..............................] - ETA: 0s - loss: 0.0049 - acc: 0.0000e+00"
     ]
    }
   ],
   "source": [
    "#start training\n",
    "model_autoencoder.fit(x_train, x_train, epochs=10)\n",
    "\n",
    "x_train_original = x_train\n",
    "#evaluate model\n",
    "scores=model_autoencoder.evaluate(x_train, x_train_original)\n",
    "\n",
    "\n",
    "print(\"scores :\", scores)"
   ]
  },
  {
   "cell_type": "code",
   "execution_count": null,
   "metadata": {},
   "outputs": [],
   "source": []
  }
 ],
 "metadata": {
  "kernelspec": {
   "display_name": "Python [default]",
   "language": "python",
   "name": "python3"
  },
  "language_info": {
   "codemirror_mode": {
    "name": "ipython",
    "version": 3
   },
   "file_extension": ".py",
   "mimetype": "text/x-python",
   "name": "python",
   "nbconvert_exporter": "python",
   "pygments_lexer": "ipython3",
   "version": "3.5.6"
  }
 },
 "nbformat": 4,
 "nbformat_minor": 2
}
