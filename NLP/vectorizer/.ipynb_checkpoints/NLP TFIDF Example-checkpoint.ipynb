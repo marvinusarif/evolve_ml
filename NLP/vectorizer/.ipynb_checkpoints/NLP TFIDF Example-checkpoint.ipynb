{
 "cells": [
  {
   "cell_type": "code",
   "execution_count": 93,
   "metadata": {},
   "outputs": [],
   "source": [
    "import glob\n",
    "from nlp.vectorizer.dictionary_builder import build_dictionary, save\n",
    "from nlp.vectorizer.tfidf_vectorizer import build_TfIdfModel_from_list_of_texts, save_tfidf_model, convert_text_to_tfidf\n",
    "\n",
    "def load_document(filename):\n",
    "    s = []\n",
    "    flist = glob.glob(filename)\n",
    "    for fname in flist:\n",
    "    #print(fname)\n",
    "        tfile = open(fname, \"r\", encoding=\"utf-8\", errors='ignore')\n",
    "        line = tfile.read()  # read the content of file and store in \"line\"\n",
    "        tfile.close()  # close the file\n",
    "        s.append(line)\n",
    "\n",
    "    return s\n",
    "\n",
    "def get_dictionary(documents, output) :\n",
    "    my_dict = build_dictionary(documents)\n",
    "    save(my_dict, output)\n",
    "    return my_dict\n",
    "\n",
    "def get_tfidf_model(documents, dictionary, output) :\n",
    "    tfidf_model = build_TfIdfModel_from_list_of_texts(documents, dictionary)\n",
    "    save_tfidf_model(tfidf_model, output)\n",
    "    return tfidf_model\n",
    "\n",
    "def sort_keywords(tfidf, reverse=True) :\n",
    "    #sorted by Idf value of each word\n",
    "    #idf value would return tuple (0,0.123231) => 1st element is the key in the dictionary, 2nd element is the idf value\n",
    "    #higher of idf value means higher word frequency\n",
    "    return sorted(tfidf, key=lambda item : item[1], reverse=reverse)\n",
    "\n",
    "def get_keywords(tfidf, dictionary) :\n",
    "    sorted_keywords = sort_keywords(tfidf)\n",
    "    keywords = map(lambda item: dictionary.get(item[0]), sorted_keywords)\n",
    "    #you have to convert it back to list if you want to return the values\n",
    "    return list(keywords)"
   ]
  },
  {
   "cell_type": "code",
   "execution_count": 94,
   "metadata": {
    "scrolled": false
   },
   "outputs": [
    {
     "name": "stderr",
     "output_type": "stream",
     "text": [
      "2018-08-23 21:22:06,646 : INFO : adding document #0 to Dictionary(0 unique tokens: [])\n",
      "2018-08-23 21:22:08,304 : INFO : built Dictionary(48736 unique tokens: ['ada', 'adalah', 'adanya', 'ade', 'agar']...) from 2969 documents (total 1428944 corpus positions)\n",
      "2018-08-23 21:22:08,327 : INFO : saving Dictionary object under dictionary/artikel_result.dict, separately None\n",
      "2018-08-23 21:22:08,363 : INFO : saved dictionary/artikel_result.dict\n",
      "2018-08-23 21:22:18,718 : INFO : collecting document frequencies\n",
      "2018-08-23 21:22:18,719 : INFO : PROGRESS: processing document #0\n",
      "2018-08-23 21:22:18,909 : INFO : calculating IDF weights for 2969 documents and 48735 features (693048 matrix non-zeros)\n",
      "2018-08-23 21:22:19,042 : INFO : saving TfidfModel object under tf_idf/artikel_result.tfidf, separately None\n",
      "2018-08-23 21:22:19,219 : INFO : saved tf_idf/artikel_result.tfidf\n"
     ]
    }
   ],
   "source": [
    "if __name__ == \"__main__\":\n",
    "    filename = r'artikel/*.txt'\n",
    "    output_filedict = 'dictionary/artikel_result.dict'\n",
    "    output_tfidf = 'tf_idf/artikel_result.tfidf'\n",
    "    \n",
    "    documents = load_document(filename)\n",
    "    dictionary = get_dictionary(documents, output_filedict)\n",
    "\n",
    "    #get our tfidf_model\n",
    "    tfidf_model = get_tfidf_model(documents, dictionary, output_tfidf)\n",
    "    "
   ]
  },
  {
   "cell_type": "code",
   "execution_count": 95,
   "metadata": {},
   "outputs": [
    {
     "name": "stdout",
     "output_type": "stream",
     "text": [
      "['serangan', 'ade', 'stroke', 'jantung', 'namnung', 'muda', 'faktor', 'perbanyak', 'anda', 'artikel', 'diingatan', 'produkwhole', 'scanningkesehatan', 'upuntuk', 'jaga', 'darah', 'komedian', 'berwaspada', 'detikhot', 'grain', 'arah', 'risiko', 'pembuluh', 'jaringan', 'meninggalnya', 'merebaknya', 'diperburuk', 'terkait', 'sampaikan', 'kolesterol', 'kasus', 'disarankan', 'melengkapi', 'meninggi', 'obesitas', 'pepatah', 'riwayat', 'usia', 'gizi', 'mengejutkan', 'perkotaan', 'merokok', 'tanyadokteranda', 'paham', 'gula', 'sesungguhnya', 'kita', 'saya', 'tahu', 'poin', 'trigliserida', 'kerusakan', 'profil', 'usianya', 'wawasan', 'lipid', 'mengenai', 'hdl', 'menghindarkan', 'makan', 'badannya', 'tersumbat', 'maka', 'check', 'plak', 'ldl', 'penyumbatan', 'tidaknya', 'pencegahan', 'mengalir', 'diabetes', 'intensitas', 'terlepas', 'catatan', 'tentu', 'omega', 'otak', 'keluarga', 'mengarah', 'sempat', 'indeks', 'sewaktu', 'dikaitkan', 'gemuk', 'kematian', 'metabolik', 'diturunkan', 'cegah', 'gerak', 'mengangkat', 'bila', 'sindrom', 'segar', 'dibawah', 'massa', 'membaca', 'ikan', 'baik', 'seimbang', 'kontrol', 'jika', 'sayur', 'keseimbangan', 'nasional', 'bisa', 'semakin', 'oksigen', 'beberapa', 'meninggal', 'masalah', 'penyebab', 'menyebutkan', 'mengobati', 'pembentukan', 'penyebabnya', 'berolahraga', 'mencegah', 'ke', 'adanya', 'kami', 'tersebut', 'memperbaiki', 'membawa', 'makanan', 'terutama', 'nutrisi', 'gaya', 'berfungsi', 'gangguan', 'membuat', 'sudah', 'medical', 'apalagi', 'penanganan', 'kini', 'tips', 'seringkali', 'jelas', 'rutin', 'anak', 'buruk', 'informasi', 'kata', 'mengatasi', 'daripada', 'menit', 'olahraga', 'lainnya', 'kelainan', 'benar', 'sebelumnya', 'peneliti', 'melihat', 'zat', 'lemak', 'buah', 'tekanan', 'bahwa', 'tingkat', 'utama', 'referensi', 'ingin', 'meningkat', 'dewasa', 'menderita', 'dunia', 'pernah', 'sedikit', 'menjadi', 'disebut', 'ditemukan', 'memiliki', 'dilakukan', 'terjadi', 'sedang', 'rendah', 'umum', 'berikut', 'terapi', 'memang', 'termasuk', 'dua', 'pun', 'lama', 'misalnya', 'menurut', 'mulai', 'bukan', 'disebabkan', 'indonesia', 'membantu', 'hidup', 'kurang', 'berbagai', 'agar', 'semua', 'cukup', 'sama', 'paling', 'berat', 'bahkan', 'baru', 'tidak', 'pada', 'masih', 'serta', 'hal', 'mungkin', 'melakukan', 'waktu', 'adalah', 'lebih', 'seperti', 'menyebabkan', 'sangat', 'mereka', 'atau', 'harus', 'bagi', 'tubuh', 'untuk', 'hari', 'tahun', 'ini', 'juga', 'akan', 'penyakit', 'sebagai', 'sumber', 'dan', 'secara', 'saat', 'dari', 'ada', 'yang', 'dengan', 'di', 'dalam', 'dapat']\n"
     ]
    }
   ],
   "source": [
    "#example of artikel no 1\n",
    "tfile = open(\"artikel/1.txt\", \"r\", encoding=\"utf-8\", errors=\"ignore\")\n",
    "sample = tfile.read()\n",
    "tfile.close()\n",
    "tfidf = convert_text_to_tfidf(sample, dictionary, tfidf_model)\n",
    "\n",
    "keywords = get_keywords(tfidf, dictionary)\n",
    "print(keywords)\n"
   ]
  },
  {
   "cell_type": "code",
   "execution_count": null,
   "metadata": {},
   "outputs": [],
   "source": []
  }
 ],
 "metadata": {
  "kernelspec": {
   "display_name": "Python 3",
   "language": "python",
   "name": "python3"
  },
  "language_info": {
   "codemirror_mode": {
    "name": "ipython",
    "version": 3
   },
   "file_extension": ".py",
   "mimetype": "text/x-python",
   "name": "python",
   "nbconvert_exporter": "python",
   "pygments_lexer": "ipython3",
   "version": "3.6.5"
  }
 },
 "nbformat": 4,
 "nbformat_minor": 2
}
